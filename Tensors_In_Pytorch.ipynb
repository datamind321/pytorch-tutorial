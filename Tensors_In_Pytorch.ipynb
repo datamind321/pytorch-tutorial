{
  "cells": [
    {
      "cell_type": "markdown",
      "id": "f1385853-86eb-4e50-bc95-cec12647d4cc",
      "metadata": {
        "id": "f1385853-86eb-4e50-bc95-cec12647d4cc"
      },
      "source": [
        "![](https://i.ytimg.com/vi/_R-mvKBD5U8/maxresdefault.jpg)\n",
        "\n",
        "## **What is Tensor ??**\n",
        "\n",
        "### **Tensor is a fundamental building block of Pytorch, and it is basically the same as a Numpy array.**\n",
        "\n",
        "### **Tensor is a specialized multi-dimensional array designed for mathematical and computational efficiency.**\n",
        "\n",
        "### **It is mostly used for converting Images, Audio into a mathematical form used for processing, as computers don’t understand images but standard numbers. Hence, it is important to convert images into numerical forms.**\n",
        "\n",
        "## **What is the types of Tensor ??**\n",
        "\n",
        "- Scaler is a 0-dimensional Vector\n",
        "- Vector is a 1-dimensional Vector\n",
        "- Matrices are 2-dimensional Vector\n",
        "- Tensors are generalized N-dimensional Tensors"
      ]
    },
    {
      "cell_type": "markdown",
      "id": "36782f68-bef9-4ed8-8273-8afe3544a71a",
      "metadata": {
        "id": "36782f68-bef9-4ed8-8273-8afe3544a71a"
      },
      "source": [
        "1. **Scalars: 0-Dimensional tensors (a single number)**\n",
        "\n",
        "  - Represents as a single value, often used for simple matrics or constants.\n",
        "    - **Example:**\n",
        "      - **Loss value**: After a forward pass, the loss function computes a single scalar value indicating the difference between actual and predicted outputs.\n",
        "      - **Example:** 5.0 or -3.14\n",
        "\n",
        "\n",
        "2. **Vectors: 1-Dimensional tensors (a list of numbers)**\n",
        "   - Represents a sequence or collection of values.\n",
        "   - **Example:**\n",
        "      - **Feature vector**: In natural language processing, each word in a sentence may be represents as a 1D vector using embeddings.\n",
        "      - **Example:**[0.12,-0.84,0.23] (a word embedding vector from a pre-trained model like word2vec or Glove).\n",
        "\n",
        "3. **Matrices: 2-Dimensional tensors (a 2d grid of numbers)**\n",
        "  - Represents tabular or grid-like data\n",
        "  - **Example:**\n",
        "     - **Grayscale images**: A grayscale image can be represented as a 2d tensor, where each entry corresponds to the pixel intensity.\n",
        "     - **Example:** [[0,255,128],[34,90,128]]\n",
        "\n",
        "4. **3D Tensors: Coloured Images**\n",
        "   - Adds a third dimension, often used for stacking data.\n",
        "   - **Example:**\n",
        "      - **RGB Images:** A single RGB image is represented as a 3d tensor (width*height*channels)\n",
        "      - **Examples:**\n",
        "         - RGB Image (eg. 256x256): Shape [256,256,3]\n",
        "5. **4D Tensor: Batches of RGB Images**\n",
        "   - Adds the batch size as an additional dimension to 3d data\n",
        "   - **Example:**\n",
        "      - **Batches of RGB Images:** A dataset coloured images is represented as a 4D tensor (batch size x width x height x channels)\n",
        "      - **Example:** A batch of 32 images, each of size is 128x128 with 3 colour channels (RGB), would have shape [32,128,128,3]\n",
        "\n",
        "6. **5D Tensors: Video Data**\n",
        "   - Adds a time dimension for data that changes over time (eg video frame)\n",
        "   - **Example:**\n",
        "      - **Video clips:** Represented as a sequence of frames, where each frame is an RGB image.\n",
        "      - **Example:** A batch of 10n video clips, each with 16 frames of size 64x64 and 3 channels (RGB), would have shape [10,16,64,64,3]\n"
      ]
    },
    {
      "cell_type": "markdown",
      "id": "1981b22f-7844-4b25-aafb-1e65edaefd6a",
      "metadata": {
        "id": "1981b22f-7844-4b25-aafb-1e65edaefd6a"
      },
      "source": [
        "## **Why are Tensors Useful ??**\n",
        "\n",
        "1. **Mathematical Operations**\n",
        "   - Tensors Enable efficient mathematical computations (addition,multiplication, dot product, etc) necessary for neural network operations.\n",
        "\n",
        "2. **Representation of Real-World Data**\n",
        "   - Data like images, audio, text can be represented tensors:\n",
        "      - **Images:** Represented as a 3D tensors (width x height x channels)\n",
        "      - **Text:** Tokenized and represented as 2D or 3D tensors (sequence length x embedding size)\n",
        "\n",
        "3. **Efficient Computation**\n",
        "   - Tensors are optimized for hardware acceleration, allowing computation on GPUs orf TPUs, which are crucial fpr training deep learning models.\n"
      ]
    },
    {
      "cell_type": "markdown",
      "id": "65c02f17-3897-4bec-9fe4-1fa2c2d95d17",
      "metadata": {
        "id": "65c02f17-3897-4bec-9fe4-1fa2c2d95d17"
      },
      "source": [
        "## **Where are Tensors are used in Deep Learning ?**\n",
        "\n",
        "1. **Data Storage**\n",
        "   - Training data (images,text etc.) is stored in tensors.\n",
        "2. **Weights and Biases**\n",
        "    - The learnable parameter of a neural network (weights and biases) are stored in tensors.\n",
        "\n",
        "3. **Matrix Operations**\n",
        "   - Neural networks involve operations like matrix multiplication, dot products, and broadcasting-all performed using tensors.\n",
        "\n",
        "4. **Traing Process**\n",
        "   - During forward passes, tensors flow through the network.\n",
        "   - Gradients, represented as tensors, are calculated during the backward pass."
      ]
    },
    {
      "cell_type": "markdown",
      "id": "4a08d889-8e05-45ad-b535-2c7c0c2acbae",
      "metadata": {
        "id": "4a08d889-8e05-45ad-b535-2c7c0c2acbae"
      },
      "source": [
        "## Practical Code Implementation"
      ]
    },
    {
      "cell_type": "code",
      "execution_count": 104,
      "id": "b9d57202-b5c3-47b5-bf85-815936de3999",
      "metadata": {
        "colab": {
          "base_uri": "https://localhost:8080/"
        },
        "id": "b9d57202-b5c3-47b5-bf85-815936de3999",
        "outputId": "f8022e5d-e71d-418e-ca51-d2f4c4f5ed8b"
      },
      "outputs": [
        {
          "output_type": "stream",
          "name": "stdout",
          "text": [
            "2.5.1+cu121\n"
          ]
        }
      ],
      "source": [
        "import torch\n",
        "print(torch.__version__)"
      ]
    },
    {
      "cell_type": "markdown",
      "id": "21675bfe-1ec0-4e0a-ab86-cc439ec288c1",
      "metadata": {
        "id": "21675bfe-1ec0-4e0a-ab86-cc439ec288c1"
      },
      "source": [
        "## Check GPU is available or not ??"
      ]
    },
    {
      "cell_type": "code",
      "execution_count": 105,
      "id": "ada73fa2-4863-4ebe-b4c3-cbe2ec2cfc84",
      "metadata": {
        "colab": {
          "base_uri": "https://localhost:8080/"
        },
        "id": "ada73fa2-4863-4ebe-b4c3-cbe2ec2cfc84",
        "outputId": "463282c1-9784-4954-9cb7-afcb47935638"
      },
      "outputs": [
        {
          "output_type": "stream",
          "name": "stdout",
          "text": [
            "GPU is available!\n",
            "Using GPU: Tesla T4\n"
          ]
        }
      ],
      "source": [
        "if torch.cuda.is_available():\n",
        "    print('GPU is available!')\n",
        "    print(f'Using GPU: {torch.cuda.get_device_name()}')\n",
        "else:\n",
        "    print('GPU is not available!')"
      ]
    },
    {
      "cell_type": "markdown",
      "id": "e32581a1-874c-408e-a311-81ef5960c3a3",
      "metadata": {
        "id": "e32581a1-874c-408e-a311-81ef5960c3a3"
      },
      "source": [
        "## Creating a Tensor"
      ]
    },
    {
      "cell_type": "code",
      "execution_count": 106,
      "id": "4b92f1e6-9e0c-4475-8181-e6577368a9b7",
      "metadata": {
        "colab": {
          "base_uri": "https://localhost:8080/"
        },
        "id": "4b92f1e6-9e0c-4475-8181-e6577368a9b7",
        "outputId": "ce5803fa-86a0-480d-9ea7-a01d7a3ea282"
      },
      "outputs": [
        {
          "output_type": "stream",
          "name": "stdout",
          "text": [
            "tensor([[-7.9633e-32,  4.3687e-41, -3.4137e+13],\n",
            "        [ 3.1128e-41,  0.0000e+00,  0.0000e+00]])\n",
            "<class 'torch.Tensor'>\n"
          ]
        }
      ],
      "source": [
        "import torch\n",
        "\n",
        "# create an empty tensor\n",
        "a = torch.empty(2,3)\n",
        "print(a)\n",
        "## check type\n",
        "print(type(a))"
      ]
    },
    {
      "cell_type": "code",
      "execution_count": 107,
      "id": "18b85224-f04a-4cbe-b4c5-2a3efd68d200",
      "metadata": {
        "colab": {
          "base_uri": "https://localhost:8080/"
        },
        "id": "18b85224-f04a-4cbe-b4c5-2a3efd68d200",
        "outputId": "e93bcadb-fdc0-46c1-d1e3-708e67faa3af"
      },
      "outputs": [
        {
          "output_type": "execute_result",
          "data": {
            "text/plain": [
              "tensor([[0., 0., 0.],\n",
              "        [0., 0., 0.]])"
            ]
          },
          "metadata": {},
          "execution_count": 107
        }
      ],
      "source": [
        "## using zeros to create tensor\n",
        "torch.zeros(2,3)\n",
        "## used to intilized weights and biases"
      ]
    },
    {
      "cell_type": "code",
      "execution_count": 108,
      "id": "d172531f-b0ca-4d65-8f03-7001f4623ed3",
      "metadata": {
        "colab": {
          "base_uri": "https://localhost:8080/"
        },
        "id": "d172531f-b0ca-4d65-8f03-7001f4623ed3",
        "outputId": "9c6f3c8f-f330-4c2e-a9ca-9d0beda143da"
      },
      "outputs": [
        {
          "output_type": "execute_result",
          "data": {
            "text/plain": [
              "tensor([[1., 1., 1.],\n",
              "        [1., 1., 1.]])"
            ]
          },
          "metadata": {},
          "execution_count": 108
        }
      ],
      "source": [
        "## using ones to creates tensor\n",
        "torch.ones(2,3)\n",
        "## intilize weights (1) and biases (0)"
      ]
    },
    {
      "cell_type": "code",
      "execution_count": 109,
      "id": "1a041283-36e3-4bae-995e-cf40de7cba1a",
      "metadata": {
        "colab": {
          "base_uri": "https://localhost:8080/"
        },
        "id": "1a041283-36e3-4bae-995e-cf40de7cba1a",
        "outputId": "08dd20ad-3080-48b3-c389-faffd51ad7f7"
      },
      "outputs": [
        {
          "output_type": "execute_result",
          "data": {
            "text/plain": [
              "tensor([[0.7158, 0.0702, 0.4443],\n",
              "        [0.6302, 0.6179, 0.1797]])"
            ]
          },
          "metadata": {},
          "execution_count": 109
        }
      ],
      "source": [
        "## using rand to create tensor\n",
        "torch.rand(2,3)\n",
        "## randomly assign weights and biases\n",
        "## used weight initialization techniques"
      ]
    },
    {
      "cell_type": "code",
      "execution_count": 110,
      "id": "089982f1-7001-42dc-a7a7-d2356c740f54",
      "metadata": {
        "colab": {
          "base_uri": "https://localhost:8080/"
        },
        "id": "089982f1-7001-42dc-a7a7-d2356c740f54",
        "outputId": "c39521b5-1bd7-4d90-efb3-40aa7972880c"
      },
      "outputs": [
        {
          "output_type": "execute_result",
          "data": {
            "text/plain": [
              "tensor([[0.1117, 0.8158, 0.2626],\n",
              "        [0.4839, 0.6765, 0.7539]])"
            ]
          },
          "metadata": {},
          "execution_count": 110
        }
      ],
      "source": [
        "## manual_seed : use to same random numbers between two users\n",
        "## user 1\n",
        "torch.manual_seed(100)\n",
        "torch.rand(2,3)"
      ]
    },
    {
      "cell_type": "code",
      "execution_count": 111,
      "id": "7e44a8d5-b7c8-4157-abf6-dcbf4e848bfa",
      "metadata": {
        "colab": {
          "base_uri": "https://localhost:8080/"
        },
        "id": "7e44a8d5-b7c8-4157-abf6-dcbf4e848bfa",
        "outputId": "b8cb82d8-dc51-4201-d95e-57d1466c010d"
      },
      "outputs": [
        {
          "output_type": "execute_result",
          "data": {
            "text/plain": [
              "tensor([[0.1117, 0.8158, 0.2626],\n",
              "        [0.4839, 0.6765, 0.7539]])"
            ]
          },
          "metadata": {},
          "execution_count": 111
        }
      ],
      "source": [
        "## user 2\n",
        "torch.manual_seed(100)\n",
        "torch.rand(2,3)"
      ]
    },
    {
      "cell_type": "code",
      "execution_count": 112,
      "id": "ad9feb2c-1a54-468a-b241-21f0c7027f9f",
      "metadata": {
        "colab": {
          "base_uri": "https://localhost:8080/"
        },
        "id": "ad9feb2c-1a54-468a-b241-21f0c7027f9f",
        "outputId": "022a8474-9168-42a9-c692-a502f74ee985"
      },
      "outputs": [
        {
          "output_type": "stream",
          "name": "stdout",
          "text": [
            "tensor(1)\n",
            "tensor([1, 2, 3])\n",
            "tensor([[1, 2, 3],\n",
            "        [4, 5, 6]])\n",
            "--- Check shapes of tensors -----\n",
            "torch.Size([])\n",
            "torch.Size([3])\n",
            "torch.Size([2, 3])\n"
          ]
        }
      ],
      "source": [
        "## using tensor function\n",
        "## 0d tensor: scaler\n",
        "t0 = torch.tensor(1)\n",
        "## 1d tensor: vector or array\n",
        "t1 = torch.tensor([1,2,3])\n",
        "## 2d tensor: matries\n",
        "t2 = torch.tensor([[1,2,3],[4,5,6]])\n",
        "\n",
        "print(t0)\n",
        "print(t1)\n",
        "print(t2)\n",
        "\n",
        "## check shape\n",
        "print('--- Check shapes of tensors -----')\n",
        "print(t0.shape)\n",
        "print(t1.shape)\n",
        "print(t2.shape)\n"
      ]
    },
    {
      "cell_type": "code",
      "execution_count": 113,
      "id": "62b84218-064d-4866-92ab-7f4ca1a6ded0",
      "metadata": {
        "colab": {
          "base_uri": "https://localhost:8080/"
        },
        "id": "62b84218-064d-4866-92ab-7f4ca1a6ded0",
        "outputId": "10573554-d4c8-4509-b430-70aadbe2aca2"
      },
      "outputs": [
        {
          "output_type": "execute_result",
          "data": {
            "text/plain": [
              "tensor([0, 2, 4, 6, 8])"
            ]
          },
          "metadata": {},
          "execution_count": 113
        }
      ],
      "source": [
        "## using arange function - similar to np.arange\n",
        "torch.arange(0,10,2)"
      ]
    },
    {
      "cell_type": "code",
      "execution_count": 114,
      "id": "e4a964ea-4982-4007-b7ac-a6f230a83557",
      "metadata": {
        "colab": {
          "base_uri": "https://localhost:8080/"
        },
        "id": "e4a964ea-4982-4007-b7ac-a6f230a83557",
        "outputId": "abb806e7-e136-459a-b525-65024c75ab75"
      },
      "outputs": [
        {
          "output_type": "execute_result",
          "data": {
            "text/plain": [
              "tensor([ 0.0000,  1.1111,  2.2222,  3.3333,  4.4444,  5.5556,  6.6667,  7.7778,\n",
              "         8.8889, 10.0000])"
            ]
          },
          "metadata": {},
          "execution_count": 114
        }
      ],
      "source": [
        "## using linspace similar to np.linspace\n",
        "torch.linspace(0,10,10)"
      ]
    },
    {
      "cell_type": "code",
      "execution_count": 115,
      "id": "f8a7fd61-71f6-41a1-b4ba-d32bd7117250",
      "metadata": {
        "colab": {
          "base_uri": "https://localhost:8080/"
        },
        "id": "f8a7fd61-71f6-41a1-b4ba-d32bd7117250",
        "outputId": "bdf34c2a-3191-4432-9b4f-5f6096cd0d05"
      },
      "outputs": [
        {
          "output_type": "execute_result",
          "data": {
            "text/plain": [
              "tensor([[1., 0., 0., 0., 0.],\n",
              "        [0., 1., 0., 0., 0.],\n",
              "        [0., 0., 1., 0., 0.],\n",
              "        [0., 0., 0., 1., 0.],\n",
              "        [0., 0., 0., 0., 1.]])"
            ]
          },
          "metadata": {},
          "execution_count": 115
        }
      ],
      "source": [
        "## using eye function : identity tensors\n",
        "torch.eye(5)"
      ]
    },
    {
      "cell_type": "code",
      "execution_count": 116,
      "id": "d9f62e4c-411c-4e09-94bd-223664bb048d",
      "metadata": {
        "colab": {
          "base_uri": "https://localhost:8080/"
        },
        "id": "d9f62e4c-411c-4e09-94bd-223664bb048d",
        "outputId": "9d84d0b9-a8cc-4827-db84-5e6b03bf1013"
      },
      "outputs": [
        {
          "output_type": "execute_result",
          "data": {
            "text/plain": [
              "tensor([[5, 5, 5],\n",
              "        [5, 5, 5],\n",
              "        [5, 5, 5]])"
            ]
          },
          "metadata": {},
          "execution_count": 116
        }
      ],
      "source": [
        "## using full function\n",
        "torch.full((3,3),5)\n",
        "## torch.full((shape),value)"
      ]
    },
    {
      "cell_type": "code",
      "execution_count": 117,
      "id": "fa637479-af9d-4062-b57e-886e6eb14186",
      "metadata": {
        "colab": {
          "base_uri": "https://localhost:8080/"
        },
        "id": "fa637479-af9d-4062-b57e-886e6eb14186",
        "outputId": "fdf9c1cf-68fb-4755-8fab-18e4fdecc65b"
      },
      "outputs": [
        {
          "output_type": "stream",
          "name": "stdout",
          "text": [
            "tensor([[1, 2, 3],\n",
            "        [4, 5, 6]])\n",
            "tensor([[133902246002064, 133902246002064,  95411993370368],\n",
            "        [ 95411993996560,               0,  95411993362208]])\n",
            "tensor([[0, 0, 0],\n",
            "        [0, 0, 0]])\n",
            "tensor([[1, 1, 1],\n",
            "        [1, 1, 1]])\n",
            "tensor([[0.2627, 0.0428, 0.2080],\n",
            "        [0.1180, 0.1217, 0.7356]])\n"
          ]
        }
      ],
      "source": [
        "## empty_like function used to create an another tensor similar shape of one.\n",
        "\n",
        "t1 = torch.tensor([[1,2,3],[4,5,6]])\n",
        "print(t1)\n",
        "\n",
        "## suppose that, we want to create an empty tensor similar to t1\n",
        "t2 = torch.empty_like(t1)\n",
        "print(t2)\n",
        "\n",
        "t3 = torch.zeros_like(t2)\n",
        "print(t3)\n",
        "\n",
        "\n",
        "t4 = torch.ones_like(t2)\n",
        "print(t4)\n",
        "\n",
        "## raise error : because it's generate float values but t4 is integer type\n",
        "## solution : assign dtype\n",
        "t5 = torch.rand_like(t4,dtype=torch.float32)\n",
        "print(t5)"
      ]
    },
    {
      "cell_type": "code",
      "execution_count": 118,
      "id": "960ebd77-adbe-4d51-8a08-873e1571fa4c",
      "metadata": {
        "colab": {
          "base_uri": "https://localhost:8080/"
        },
        "id": "960ebd77-adbe-4d51-8a08-873e1571fa4c",
        "outputId": "c2f333c2-545f-4559-c7e5-95a442ef41d7"
      },
      "outputs": [
        {
          "output_type": "stream",
          "name": "stdout",
          "text": [
            "torch.int64\n"
          ]
        }
      ],
      "source": [
        "## check data type any tensor\n",
        "print(t1.dtype)"
      ]
    },
    {
      "cell_type": "code",
      "execution_count": 119,
      "id": "87497df9-3d60-4603-a950-10cb1d5634e7",
      "metadata": {
        "colab": {
          "base_uri": "https://localhost:8080/"
        },
        "id": "87497df9-3d60-4603-a950-10cb1d5634e7",
        "outputId": "b94f3388-f52c-4e4c-ce26-7f55845f8488"
      },
      "outputs": [
        {
          "output_type": "execute_result",
          "data": {
            "text/plain": [
              "tensor([1, 2, 3], dtype=torch.int32)"
            ]
          },
          "metadata": {},
          "execution_count": 119
        }
      ],
      "source": [
        "## assign data type\n",
        "tns = torch.tensor([1.0,2.0,3.0],dtype=torch.int32)\n",
        "tns"
      ]
    },
    {
      "cell_type": "code",
      "execution_count": 120,
      "id": "a6894a1f-3474-4e23-be01-d8f4e8b50393",
      "metadata": {
        "colab": {
          "base_uri": "https://localhost:8080/"
        },
        "id": "a6894a1f-3474-4e23-be01-d8f4e8b50393",
        "outputId": "1dc511ee-3277-4f62-fc20-686fdf8697e4"
      },
      "outputs": [
        {
          "output_type": "stream",
          "name": "stdout",
          "text": [
            "tensor([1., 2., 3.], dtype=torch.float64)\n",
            "tensor([0.6941, 0.3464, 0.9751], dtype=torch.float64)\n"
          ]
        }
      ],
      "source": [
        "t1 = torch.tensor([1,2,3],dtype=torch.float64)\n",
        "print(t1)\n",
        "\n",
        "t2 = torch.rand_like(t1)\n",
        "print(t2)\n",
        "\n",
        "## solve previous error : assign dtype: float in t1"
      ]
    },
    {
      "cell_type": "code",
      "execution_count": 121,
      "id": "35a49f29-72c0-4c57-be3a-f7aac81807d0",
      "metadata": {
        "colab": {
          "base_uri": "https://localhost:8080/"
        },
        "id": "35a49f29-72c0-4c57-be3a-f7aac81807d0",
        "outputId": "8f0d5346-cca3-4768-d4a5-d2e0d60639c8"
      },
      "outputs": [
        {
          "output_type": "stream",
          "name": "stdout",
          "text": [
            "torch.float64\n",
            "torch.int32\n"
          ]
        }
      ],
      "source": [
        "print(t1.dtype)\n",
        "## change datatype t1\n",
        "t1 = t1.to(torch.int32)\n",
        "print(t1.dtype)"
      ]
    },
    {
      "cell_type": "markdown",
      "id": "eedaee82-7a5e-4fe9-aac6-46a70f1bff77",
      "metadata": {
        "id": "eedaee82-7a5e-4fe9-aac6-46a70f1bff77"
      },
      "source": [
        "## Mathematical Operation on Tensor"
      ]
    },
    {
      "cell_type": "markdown",
      "id": "c20d882c-6354-44ce-ace3-0279611dc028",
      "metadata": {
        "id": "c20d882c-6354-44ce-ace3-0279611dc028"
      },
      "source": [
        "### Scaler Operation"
      ]
    },
    {
      "cell_type": "code",
      "execution_count": 122,
      "id": "5f6120a1-a7ee-4d61-9d24-8ed687ee1f13",
      "metadata": {
        "colab": {
          "base_uri": "https://localhost:8080/"
        },
        "id": "5f6120a1-a7ee-4d61-9d24-8ed687ee1f13",
        "outputId": "d4126391-85bb-46f5-fc79-681276d984de"
      },
      "outputs": [
        {
          "output_type": "execute_result",
          "data": {
            "text/plain": [
              "tensor([[0.2239, 0.3023],\n",
              "        [0.1784, 0.8238]])"
            ]
          },
          "metadata": {},
          "execution_count": 122
        }
      ],
      "source": [
        "x = torch.rand(2,2)\n",
        "x"
      ]
    },
    {
      "cell_type": "code",
      "execution_count": 123,
      "id": "6376856c-7f14-43e3-bbb3-46b65423ceaf",
      "metadata": {
        "colab": {
          "base_uri": "https://localhost:8080/"
        },
        "id": "6376856c-7f14-43e3-bbb3-46b65423ceaf",
        "outputId": "a03b2a62-a0c7-4041-ddc2-956be32c1064"
      },
      "outputs": [
        {
          "output_type": "execute_result",
          "data": {
            "text/plain": [
              "tensor([[1.2239, 1.3023],\n",
              "        [1.1784, 1.8238]])"
            ]
          },
          "metadata": {},
          "execution_count": 123
        }
      ],
      "source": [
        "## addition\n",
        "x+1"
      ]
    },
    {
      "cell_type": "code",
      "execution_count": 124,
      "id": "5d628d00-44e4-4a40-a898-95d39a94b19d",
      "metadata": {
        "colab": {
          "base_uri": "https://localhost:8080/"
        },
        "id": "5d628d00-44e4-4a40-a898-95d39a94b19d",
        "outputId": "5a8fb1bb-824e-4560-db4c-401f510fd251"
      },
      "outputs": [
        {
          "output_type": "execute_result",
          "data": {
            "text/plain": [
              "tensor([[-0.7761, -0.6977],\n",
              "        [-0.8216, -0.1762]])"
            ]
          },
          "metadata": {},
          "execution_count": 124
        }
      ],
      "source": [
        "## substraction\n",
        "x-1"
      ]
    },
    {
      "cell_type": "code",
      "execution_count": 125,
      "id": "423182c2-5a97-4d09-a0e5-3715cbe5e7cb",
      "metadata": {
        "colab": {
          "base_uri": "https://localhost:8080/"
        },
        "id": "423182c2-5a97-4d09-a0e5-3715cbe5e7cb",
        "outputId": "cb088a42-4605-4b52-8d4a-27f4e94d53c2"
      },
      "outputs": [
        {
          "output_type": "execute_result",
          "data": {
            "text/plain": [
              "tensor([[0.4478, 0.6047],\n",
              "        [0.3568, 1.6477]])"
            ]
          },
          "metadata": {},
          "execution_count": 125
        }
      ],
      "source": [
        "## multiplication\n",
        "x*2"
      ]
    },
    {
      "cell_type": "code",
      "execution_count": 126,
      "id": "06dff8a0-34c9-426f-9c87-1446b1c30170",
      "metadata": {
        "colab": {
          "base_uri": "https://localhost:8080/"
        },
        "id": "06dff8a0-34c9-426f-9c87-1446b1c30170",
        "outputId": "b651c5e1-1a51-47d9-cf0b-7366504cbee6"
      },
      "outputs": [
        {
          "output_type": "execute_result",
          "data": {
            "text/plain": [
              "tensor([[0.1119, 0.1512],\n",
              "        [0.0892, 0.4119]])"
            ]
          },
          "metadata": {},
          "execution_count": 126
        }
      ],
      "source": [
        "## division\n",
        "x/2"
      ]
    },
    {
      "cell_type": "code",
      "execution_count": 127,
      "id": "9a110f1f-2247-43fc-aa1c-872cf0a7f419",
      "metadata": {
        "colab": {
          "base_uri": "https://localhost:8080/"
        },
        "id": "9a110f1f-2247-43fc-aa1c-872cf0a7f419",
        "outputId": "bdeb7512-fead-4fcb-ab98-dd48a3dedcad"
      },
      "outputs": [
        {
          "output_type": "execute_result",
          "data": {
            "text/plain": [
              "tensor([[ 7., 10.],\n",
              "        [ 5., 27.]])"
            ]
          },
          "metadata": {},
          "execution_count": 127
        }
      ],
      "source": [
        "## int divison\n",
        "(x*100)//3"
      ]
    },
    {
      "cell_type": "code",
      "execution_count": 128,
      "id": "67562cc0-0e19-4094-8b89-7935bf513a59",
      "metadata": {
        "colab": {
          "base_uri": "https://localhost:8080/"
        },
        "id": "67562cc0-0e19-4094-8b89-7935bf513a59",
        "outputId": "33aeafcc-1270-41b6-d661-c9325b3cfa9d"
      },
      "outputs": [
        {
          "output_type": "execute_result",
          "data": {
            "text/plain": [
              "tensor([[1., 0.],\n",
              "        [1., 1.]])"
            ]
          },
          "metadata": {},
          "execution_count": 128
        }
      ],
      "source": [
        "## mod\n",
        "((x*100)//3)%2"
      ]
    },
    {
      "cell_type": "code",
      "execution_count": 129,
      "id": "545e38eb-5cde-4024-abb4-d38591328552",
      "metadata": {
        "colab": {
          "base_uri": "https://localhost:8080/"
        },
        "id": "545e38eb-5cde-4024-abb4-d38591328552",
        "outputId": "02b5d0b4-eaea-4c5e-9529-b9a33a4397e6"
      },
      "outputs": [
        {
          "output_type": "execute_result",
          "data": {
            "text/plain": [
              "tensor([[0.0501, 0.0914],\n",
              "        [0.0318, 0.6787]])"
            ]
          },
          "metadata": {},
          "execution_count": 129
        }
      ],
      "source": [
        "## power\n",
        "x**2"
      ]
    },
    {
      "cell_type": "markdown",
      "id": "5d4f67ed-41b1-45e0-a6b9-2641ab5fdd98",
      "metadata": {
        "id": "5d4f67ed-41b1-45e0-a6b9-2641ab5fdd98"
      },
      "source": [
        "## Elementwise Operation"
      ]
    },
    {
      "cell_type": "code",
      "execution_count": 130,
      "id": "43af31a6-9d1d-491e-b3e0-3afc0c848420",
      "metadata": {
        "colab": {
          "base_uri": "https://localhost:8080/"
        },
        "id": "43af31a6-9d1d-491e-b3e0-3afc0c848420",
        "outputId": "21ae781b-9fcf-4468-bed9-ed42f9db7197"
      },
      "outputs": [
        {
          "output_type": "stream",
          "name": "stdout",
          "text": [
            "tensor([[0.5557, 0.9770],\n",
            "        [0.4440, 0.9478]])\n",
            "tensor([[0.7445, 0.4892],\n",
            "        [0.2426, 0.7003]])\n"
          ]
        }
      ],
      "source": [
        "a = torch.rand(2,2)\n",
        "b = torch.rand(2,2)\n",
        "print(a)\n",
        "print(b)"
      ]
    },
    {
      "cell_type": "code",
      "execution_count": 131,
      "id": "e9bdfa78-a38a-4bb7-bad5-88491ab26668",
      "metadata": {
        "colab": {
          "base_uri": "https://localhost:8080/"
        },
        "id": "e9bdfa78-a38a-4bb7-bad5-88491ab26668",
        "outputId": "64cae182-f077-4b12-cff7-6ba59d457b47"
      },
      "outputs": [
        {
          "output_type": "stream",
          "name": "stdout",
          "text": [
            "tensor([[1.3002, 1.4662],\n",
            "        [0.6866, 1.6482]])\n"
          ]
        }
      ],
      "source": [
        "## addition\n",
        "print(a+b)"
      ]
    },
    {
      "cell_type": "code",
      "execution_count": 132,
      "id": "830ad12d-a985-44a1-bc46-8af153be53fa",
      "metadata": {
        "colab": {
          "base_uri": "https://localhost:8080/"
        },
        "id": "830ad12d-a985-44a1-bc46-8af153be53fa",
        "outputId": "8c5b041d-8f61-4bc3-d7c6-d1a3a92fb930"
      },
      "outputs": [
        {
          "output_type": "stream",
          "name": "stdout",
          "text": [
            "tensor([[-0.1887,  0.4878],\n",
            "        [ 0.2015,  0.2475]])\n"
          ]
        }
      ],
      "source": [
        "## substraction\n",
        "print(a-b)"
      ]
    },
    {
      "cell_type": "code",
      "execution_count": 133,
      "id": "9c762985-ebe4-4264-a155-0245a70381ed",
      "metadata": {
        "colab": {
          "base_uri": "https://localhost:8080/"
        },
        "id": "9c762985-ebe4-4264-a155-0245a70381ed",
        "outputId": "0cc2d720-1815-425d-c5b1-7b5461b095cf"
      },
      "outputs": [
        {
          "output_type": "stream",
          "name": "stdout",
          "text": [
            "tensor([[0.4137, 0.4780],\n",
            "        [0.1077, 0.6638]])\n"
          ]
        }
      ],
      "source": [
        "## multiplication\n",
        "print(a*b)"
      ]
    },
    {
      "cell_type": "code",
      "execution_count": 134,
      "id": "44ad2b0f-c111-4daf-94d7-4ad63e9412a8",
      "metadata": {
        "colab": {
          "base_uri": "https://localhost:8080/"
        },
        "id": "44ad2b0f-c111-4daf-94d7-4ad63e9412a8",
        "outputId": "57e29a27-9191-4908-fbaf-dbe6b7edfc3f"
      },
      "outputs": [
        {
          "output_type": "stream",
          "name": "stdout",
          "text": [
            "tensor([[0.7465, 1.9972],\n",
            "        [1.8306, 1.3534]])\n"
          ]
        }
      ],
      "source": [
        "## divison\n",
        "print(a/b)"
      ]
    },
    {
      "cell_type": "code",
      "execution_count": 135,
      "id": "87621157-ecba-4f46-82b3-5ed258ae0836",
      "metadata": {
        "colab": {
          "base_uri": "https://localhost:8080/"
        },
        "id": "87621157-ecba-4f46-82b3-5ed258ae0836",
        "outputId": "5d1d320f-a9bc-41de-b5de-96080431330f"
      },
      "outputs": [
        {
          "output_type": "stream",
          "name": "stdout",
          "text": [
            "tensor([[0.6457, 0.9887],\n",
            "        [0.8212, 0.9632]])\n"
          ]
        }
      ],
      "source": [
        "## power\n",
        "print(a**b)"
      ]
    },
    {
      "cell_type": "code",
      "execution_count": 136,
      "id": "87d51e76-8bdf-4ad6-9691-65f21bdda12f",
      "metadata": {
        "colab": {
          "base_uri": "https://localhost:8080/"
        },
        "id": "87d51e76-8bdf-4ad6-9691-65f21bdda12f",
        "outputId": "76f2e824-f9a6-4e53-94c5-d95a9700b436"
      },
      "outputs": [
        {
          "output_type": "stream",
          "name": "stdout",
          "text": [
            "tensor([[0.5557, 0.4878],\n",
            "        [0.2015, 0.2475]])\n"
          ]
        }
      ],
      "source": [
        "## mod\n",
        "print(a%b)"
      ]
    },
    {
      "cell_type": "code",
      "execution_count": 137,
      "id": "01035672-0635-47e3-8b4b-dc7fe346b71f",
      "metadata": {
        "colab": {
          "base_uri": "https://localhost:8080/"
        },
        "id": "01035672-0635-47e3-8b4b-dc7fe346b71f",
        "outputId": "3a199511-d886-41e3-85fa-ef91f445bf0b"
      },
      "outputs": [
        {
          "output_type": "execute_result",
          "data": {
            "text/plain": [
              "tensor([1, 2, 3, 4])"
            ]
          },
          "metadata": {},
          "execution_count": 137
        }
      ],
      "source": [
        "## abs\n",
        "c = torch.tensor([1,-2,3,-4])\n",
        "torch.abs(c)"
      ]
    },
    {
      "cell_type": "code",
      "execution_count": 138,
      "id": "d179a29f-e703-4bff-81ee-b9bb62665464",
      "metadata": {
        "colab": {
          "base_uri": "https://localhost:8080/"
        },
        "id": "d179a29f-e703-4bff-81ee-b9bb62665464",
        "outputId": "7b3d48bd-7faa-41f4-a22e-3f659c3980f2"
      },
      "outputs": [
        {
          "output_type": "execute_result",
          "data": {
            "text/plain": [
              "tensor([-1,  2, -3,  4])"
            ]
          },
          "metadata": {},
          "execution_count": 138
        }
      ],
      "source": [
        "## negative\n",
        "torch.neg(c)"
      ]
    },
    {
      "cell_type": "code",
      "execution_count": 139,
      "id": "907de985-13ec-4427-979e-3b6dc397b2e9",
      "metadata": {
        "colab": {
          "base_uri": "https://localhost:8080/"
        },
        "id": "907de985-13ec-4427-979e-3b6dc397b2e9",
        "outputId": "5b094f97-8a51-4b95-8060-74176a54dade"
      },
      "outputs": [
        {
          "output_type": "execute_result",
          "data": {
            "text/plain": [
              "tensor([2., 2., 4., 4.])"
            ]
          },
          "metadata": {},
          "execution_count": 139
        }
      ],
      "source": [
        "## round\n",
        "d = torch.tensor([1.9,2.3,3.7,4.4])\n",
        "torch.round(d)"
      ]
    },
    {
      "cell_type": "code",
      "execution_count": 140,
      "id": "73d18970-b77b-4cdd-9503-6cfda0ff115a",
      "metadata": {
        "colab": {
          "base_uri": "https://localhost:8080/"
        },
        "id": "73d18970-b77b-4cdd-9503-6cfda0ff115a",
        "outputId": "3490f5e8-dcf2-4832-bf54-d54f6d7be282"
      },
      "outputs": [
        {
          "output_type": "execute_result",
          "data": {
            "text/plain": [
              "tensor([2., 3., 4., 5.])"
            ]
          },
          "metadata": {},
          "execution_count": 140
        }
      ],
      "source": [
        "## ceil : next integer\n",
        "torch.ceil(d)"
      ]
    },
    {
      "cell_type": "code",
      "execution_count": 141,
      "id": "b3221e5b-dd78-4b05-b9fa-02640beab20d",
      "metadata": {
        "colab": {
          "base_uri": "https://localhost:8080/"
        },
        "id": "b3221e5b-dd78-4b05-b9fa-02640beab20d",
        "outputId": "5f47757d-78c7-483c-e5c5-bf6d0e23b0fa"
      },
      "outputs": [
        {
          "output_type": "execute_result",
          "data": {
            "text/plain": [
              "tensor([1., 2., 3., 4.])"
            ]
          },
          "metadata": {},
          "execution_count": 141
        }
      ],
      "source": [
        "## floor : previous integer\n",
        "torch.floor(d)"
      ]
    },
    {
      "cell_type": "code",
      "execution_count": 142,
      "id": "745c151f-27bb-440e-9c6f-849718711208",
      "metadata": {
        "colab": {
          "base_uri": "https://localhost:8080/"
        },
        "id": "745c151f-27bb-440e-9c6f-849718711208",
        "outputId": "7641a111-8d0b-4b17-bfcc-48ee64b09ad1"
      },
      "outputs": [
        {
          "output_type": "execute_result",
          "data": {
            "text/plain": [
              "tensor([2.0000, 2.3000, 3.0000, 3.0000])"
            ]
          },
          "metadata": {},
          "execution_count": 142
        }
      ],
      "source": [
        "## clamp : range betwwen 2 to 3\n",
        "torch.clamp(d,min=2,max=3)"
      ]
    },
    {
      "cell_type": "markdown",
      "id": "f427815c-226d-4ed5-ad71-7c03f3b59b27",
      "metadata": {
        "id": "f427815c-226d-4ed5-ad71-7c03f3b59b27"
      },
      "source": [
        "## Reduction Operation"
      ]
    },
    {
      "cell_type": "code",
      "execution_count": 143,
      "id": "14356d3b-90ca-4deb-84f2-2965c244cebc",
      "metadata": {
        "colab": {
          "base_uri": "https://localhost:8080/"
        },
        "id": "14356d3b-90ca-4deb-84f2-2965c244cebc",
        "outputId": "e3c314a4-c9a4-4c01-e84a-93e49b7f8813"
      },
      "outputs": [
        {
          "output_type": "execute_result",
          "data": {
            "text/plain": [
              "tensor([[7, 0, 0],\n",
              "        [9, 5, 7]])"
            ]
          },
          "metadata": {},
          "execution_count": 143
        }
      ],
      "source": [
        "a = torch.randint(size=(2,3),low=0,high=10)\n",
        "a"
      ]
    },
    {
      "cell_type": "code",
      "execution_count": 144,
      "id": "e3fad4b8-66a8-4c34-b525-49e8c8fbb8f2",
      "metadata": {
        "colab": {
          "base_uri": "https://localhost:8080/"
        },
        "id": "e3fad4b8-66a8-4c34-b525-49e8c8fbb8f2",
        "outputId": "b66881c2-82d5-4387-e92b-e74a45dab1e1"
      },
      "outputs": [
        {
          "output_type": "execute_result",
          "data": {
            "text/plain": [
              "tensor(28)"
            ]
          },
          "metadata": {},
          "execution_count": 144
        }
      ],
      "source": [
        "## sum\n",
        "torch.sum(a)"
      ]
    },
    {
      "cell_type": "code",
      "execution_count": 145,
      "id": "2cb91720-c87c-4954-8ad6-28a01de36486",
      "metadata": {
        "colab": {
          "base_uri": "https://localhost:8080/"
        },
        "id": "2cb91720-c87c-4954-8ad6-28a01de36486",
        "outputId": "b59c5f06-b5f7-410b-8742-17d1dcbc0b24"
      },
      "outputs": [
        {
          "output_type": "execute_result",
          "data": {
            "text/plain": [
              "tensor([16,  5,  7])"
            ]
          },
          "metadata": {},
          "execution_count": 145
        }
      ],
      "source": [
        "## sum along column - column wise sum\n",
        "torch.sum(a,dim=0)"
      ]
    },
    {
      "cell_type": "code",
      "execution_count": 146,
      "id": "532604ce-348a-4260-98ab-65f033849540",
      "metadata": {
        "colab": {
          "base_uri": "https://localhost:8080/"
        },
        "id": "532604ce-348a-4260-98ab-65f033849540",
        "outputId": "ac149bbf-1e48-4349-e206-9519274c1a44"
      },
      "outputs": [
        {
          "output_type": "execute_result",
          "data": {
            "text/plain": [
              "tensor([ 7, 21])"
            ]
          },
          "metadata": {},
          "execution_count": 146
        }
      ],
      "source": [
        "# sum along row - row wise sum\n",
        "torch.sum(a,dim=1)"
      ]
    },
    {
      "cell_type": "code",
      "execution_count": 147,
      "id": "c5d5058e-44d3-4b6b-ac02-3a6b57b16ebb",
      "metadata": {
        "colab": {
          "base_uri": "https://localhost:8080/"
        },
        "id": "c5d5058e-44d3-4b6b-ac02-3a6b57b16ebb",
        "outputId": "30b29ccb-e8f4-427c-884f-071b44564e3b"
      },
      "outputs": [
        {
          "output_type": "execute_result",
          "data": {
            "text/plain": [
              "tensor(4.6667)"
            ]
          },
          "metadata": {},
          "execution_count": 147
        }
      ],
      "source": [
        "## mean\n",
        "torch.mean(a,dtype=torch.float32)"
      ]
    },
    {
      "cell_type": "code",
      "execution_count": 148,
      "id": "d32d39f4-0c64-4dcd-ab9f-9cf319f146af",
      "metadata": {
        "colab": {
          "base_uri": "https://localhost:8080/"
        },
        "id": "d32d39f4-0c64-4dcd-ab9f-9cf319f146af",
        "outputId": "240c748f-a3ae-4051-fe0a-c8d244ef67d4"
      },
      "outputs": [
        {
          "output_type": "execute_result",
          "data": {
            "text/plain": [
              "tensor([8.0000, 2.5000, 3.5000])"
            ]
          },
          "metadata": {},
          "execution_count": 148
        }
      ],
      "source": [
        "## mean - column wise\n",
        "torch.mean(a,dtype=torch.float32,dim=0)"
      ]
    },
    {
      "cell_type": "code",
      "execution_count": 149,
      "id": "e908dbd3-4a5a-4d56-9d84-493e76634168",
      "metadata": {
        "colab": {
          "base_uri": "https://localhost:8080/"
        },
        "id": "e908dbd3-4a5a-4d56-9d84-493e76634168",
        "outputId": "46f74543-39ea-4567-8a34-35f18917b6ca"
      },
      "outputs": [
        {
          "output_type": "execute_result",
          "data": {
            "text/plain": [
              "tensor([2.3333, 7.0000])"
            ]
          },
          "metadata": {},
          "execution_count": 149
        }
      ],
      "source": [
        "## mean - row wise\n",
        "torch.mean(a,dtype=torch.float32,dim=1)"
      ]
    },
    {
      "cell_type": "code",
      "execution_count": 150,
      "id": "1c884a70-c3a2-4f1d-9be5-390a249e2e8a",
      "metadata": {
        "colab": {
          "base_uri": "https://localhost:8080/"
        },
        "id": "1c884a70-c3a2-4f1d-9be5-390a249e2e8a",
        "outputId": "9bf41196-2d3b-44b1-c12c-7e93009f15e7"
      },
      "outputs": [
        {
          "output_type": "execute_result",
          "data": {
            "text/plain": [
              "tensor(5)"
            ]
          },
          "metadata": {},
          "execution_count": 150
        }
      ],
      "source": [
        "## standard deviation\n",
        "torch.median(a)"
      ]
    },
    {
      "cell_type": "code",
      "execution_count": 151,
      "id": "9456e97f-4acf-47b0-aaf1-a3c9e5fa830a",
      "metadata": {
        "colab": {
          "base_uri": "https://localhost:8080/"
        },
        "id": "9456e97f-4acf-47b0-aaf1-a3c9e5fa830a",
        "outputId": "a080f2fd-277c-4407-b582-b1455367b59d"
      },
      "outputs": [
        {
          "output_type": "stream",
          "name": "stdout",
          "text": [
            "tensor(0)\n",
            "tensor(9)\n"
          ]
        }
      ],
      "source": [
        "## min and max\n",
        "print(torch.min(a))\n",
        "print(torch.max(a))"
      ]
    },
    {
      "cell_type": "code",
      "execution_count": 152,
      "id": "5b7b9e2b-3c8f-4838-b789-34e04c2b52df",
      "metadata": {
        "colab": {
          "base_uri": "https://localhost:8080/"
        },
        "id": "5b7b9e2b-3c8f-4838-b789-34e04c2b52df",
        "outputId": "294818b6-40e6-4e5f-b513-0f8c059ef789"
      },
      "outputs": [
        {
          "output_type": "stream",
          "name": "stdout",
          "text": [
            "tensor([[7, 0, 0],\n",
            "        [9, 5, 7]])\n"
          ]
        },
        {
          "output_type": "execute_result",
          "data": {
            "text/plain": [
              "tensor(0)"
            ]
          },
          "metadata": {},
          "execution_count": 152
        }
      ],
      "source": [
        "print(a)\n",
        "torch.prod(a)\n",
        "## product is 0 because one element is 0"
      ]
    },
    {
      "cell_type": "code",
      "execution_count": 153,
      "id": "f1416942-104b-43f4-891e-51ec2fee27d7",
      "metadata": {
        "colab": {
          "base_uri": "https://localhost:8080/"
        },
        "id": "f1416942-104b-43f4-891e-51ec2fee27d7",
        "outputId": "149cb84b-afab-40a8-8bf3-c6da95d3a3d3"
      },
      "outputs": [
        {
          "output_type": "stream",
          "name": "stdout",
          "text": [
            "tensor([[7, 0, 0],\n",
            "        [9, 5, 7]])\n"
          ]
        },
        {
          "output_type": "execute_result",
          "data": {
            "text/plain": [
              "tensor(3)"
            ]
          },
          "metadata": {},
          "execution_count": 153
        }
      ],
      "source": [
        "## argmax\n",
        "print(a)\n",
        "torch.argmax(a)\n",
        "## tell the max element position which is 1"
      ]
    },
    {
      "cell_type": "code",
      "execution_count": 154,
      "id": "74f072d8-1175-4416-b853-17670f7f3742",
      "metadata": {
        "colab": {
          "base_uri": "https://localhost:8080/"
        },
        "id": "74f072d8-1175-4416-b853-17670f7f3742",
        "outputId": "905fd010-f0ca-496d-b3fb-ecac7ee5464e"
      },
      "outputs": [
        {
          "output_type": "stream",
          "name": "stdout",
          "text": [
            "tensor([[7, 0, 0],\n",
            "        [9, 5, 7]])\n"
          ]
        },
        {
          "output_type": "execute_result",
          "data": {
            "text/plain": [
              "tensor(1)"
            ]
          },
          "metadata": {},
          "execution_count": 154
        }
      ],
      "source": [
        "## argmin\n",
        "print(a)\n",
        "torch.argmin(a)\n",
        "## tell the min element position which is 2"
      ]
    },
    {
      "cell_type": "markdown",
      "id": "867609d5-34ed-434e-9ff8-d86b6c01ed00",
      "metadata": {
        "id": "867609d5-34ed-434e-9ff8-d86b6c01ed00"
      },
      "source": [
        "## Matrix Operation"
      ]
    },
    {
      "cell_type": "code",
      "execution_count": 155,
      "id": "739bcdcd-159a-4476-b021-4fc36aec43a3",
      "metadata": {
        "colab": {
          "base_uri": "https://localhost:8080/"
        },
        "id": "739bcdcd-159a-4476-b021-4fc36aec43a3",
        "outputId": "46b28918-8ba7-47f3-e971-eaabe05bf675"
      },
      "outputs": [
        {
          "output_type": "stream",
          "name": "stdout",
          "text": [
            "tensor([[0, 0, 0],\n",
            "        [0, 2, 0],\n",
            "        [0, 2, 0]])\n"
          ]
        }
      ],
      "source": [
        "t1 = torch.randint(size=(3,2),low=0,high=3)\n",
        "t2 = torch.randint(size=(2,3),low=0,high=3)\n",
        "\n",
        "t3 = torch.matmul(t1,t2)\n",
        "print(t3)"
      ]
    },
    {
      "cell_type": "code",
      "execution_count": 156,
      "id": "dd41c75c-40bb-4a57-bd09-d78a7b0dff09",
      "metadata": {
        "colab": {
          "base_uri": "https://localhost:8080/"
        },
        "id": "dd41c75c-40bb-4a57-bd09-d78a7b0dff09",
        "outputId": "e51fff7b-8c48-474d-d8ab-a20ffa1f504b"
      },
      "outputs": [
        {
          "output_type": "execute_result",
          "data": {
            "text/plain": [
              "tensor(11)"
            ]
          },
          "metadata": {},
          "execution_count": 156
        }
      ],
      "source": [
        "## dot product\n",
        "a = torch.tensor([1,2])\n",
        "b = torch.tensor([3,4])\n",
        "\n",
        "torch.dot(a,b)"
      ]
    },
    {
      "cell_type": "code",
      "execution_count": 157,
      "id": "b947179c-366d-4bc9-8d8d-e3c7299a4852",
      "metadata": {
        "colab": {
          "base_uri": "https://localhost:8080/"
        },
        "id": "b947179c-366d-4bc9-8d8d-e3c7299a4852",
        "outputId": "f08aff0e-5506-40f7-990a-cd79ec245076"
      },
      "outputs": [
        {
          "output_type": "stream",
          "name": "stdout",
          "text": [
            "tensor([[3., 7., 8.],\n",
            "        [7., 9., 9.],\n",
            "        [5., 6., 7.]])\n"
          ]
        },
        {
          "output_type": "execute_result",
          "data": {
            "text/plain": [
              "tensor([[3., 7., 5.],\n",
              "        [7., 9., 6.],\n",
              "        [8., 9., 7.]])"
            ]
          },
          "metadata": {},
          "execution_count": 157
        }
      ],
      "source": [
        "## transpose\n",
        "\n",
        "t1 = torch.tensor([[3,7,8],[7,9,9],[5,6,7]],dtype=torch.float32)\n",
        "print(t1)\n",
        "\n",
        "torch.transpose(t1,0,1)"
      ]
    },
    {
      "cell_type": "code",
      "execution_count": 158,
      "id": "94085e19-ad5d-480e-8fd3-1a78e9468938",
      "metadata": {
        "colab": {
          "base_uri": "https://localhost:8080/"
        },
        "id": "94085e19-ad5d-480e-8fd3-1a78e9468938",
        "outputId": "bc2e80fc-dd2b-4cf1-ae7f-1d50c3f17cf3"
      },
      "outputs": [
        {
          "output_type": "execute_result",
          "data": {
            "text/plain": [
              "tensor(-25.)"
            ]
          },
          "metadata": {},
          "execution_count": 158
        }
      ],
      "source": [
        "## determinant\n",
        "torch.det(t1)"
      ]
    },
    {
      "cell_type": "code",
      "execution_count": 159,
      "id": "255bd230-006e-427c-9160-1972cb829c46",
      "metadata": {
        "colab": {
          "base_uri": "https://localhost:8080/"
        },
        "id": "255bd230-006e-427c-9160-1972cb829c46",
        "outputId": "e8388c77-eaed-4e20-e084-3472b51fe4ea"
      },
      "outputs": [
        {
          "output_type": "execute_result",
          "data": {
            "text/plain": [
              "tensor([[-0.3600,  0.0400,  0.3600],\n",
              "        [ 0.1600,  0.7600, -1.1600],\n",
              "        [ 0.1200, -0.6800,  0.8800]])"
            ]
          },
          "metadata": {},
          "execution_count": 159
        }
      ],
      "source": [
        "## inverse\n",
        "torch.inverse(t1)"
      ]
    },
    {
      "cell_type": "markdown",
      "id": "f6302760-e9c4-4fe5-b7f4-d105c7b23bd5",
      "metadata": {
        "id": "f6302760-e9c4-4fe5-b7f4-d105c7b23bd5"
      },
      "source": [
        "## Comparison Operation"
      ]
    },
    {
      "cell_type": "code",
      "execution_count": 160,
      "id": "9394356e-f24d-4d62-9e8b-2f97369eab82",
      "metadata": {
        "colab": {
          "base_uri": "https://localhost:8080/"
        },
        "id": "9394356e-f24d-4d62-9e8b-2f97369eab82",
        "outputId": "44176f1c-933e-4d5a-986e-32e8c9c44e71"
      },
      "outputs": [
        {
          "output_type": "stream",
          "name": "stdout",
          "text": [
            "tensor([[8., 9., 7.],\n",
            "        [9., 2., 6.]])\n",
            "tensor([[7., 7., 8.],\n",
            "        [3., 6., 1.]])\n"
          ]
        }
      ],
      "source": [
        "t1 = torch.randint(size=(2,3),low=0,high=10,dtype=torch.float32)\n",
        "t2 = torch.randint(size=(2,3),low=0,high=10,dtype=torch.float32)\n",
        "\n",
        "print(t1)\n",
        "print(t2)"
      ]
    },
    {
      "cell_type": "code",
      "execution_count": 161,
      "id": "68e62f08-1fa2-447a-ac46-51e2ab6d1578",
      "metadata": {
        "colab": {
          "base_uri": "https://localhost:8080/"
        },
        "id": "68e62f08-1fa2-447a-ac46-51e2ab6d1578",
        "outputId": "bee64e0c-192f-4f27-f431-2313a8f91f3f"
      },
      "outputs": [
        {
          "output_type": "stream",
          "name": "stdout",
          "text": [
            "tensor([[ True,  True, False],\n",
            "        [ True, False,  True]])\n",
            "tensor([[False, False,  True],\n",
            "        [False,  True, False]])\n",
            "tensor([[False, False, False],\n",
            "        [False, False, False]])\n",
            "tensor([[True, True, True],\n",
            "        [True, True, True]])\n"
          ]
        }
      ],
      "source": [
        "## greater than\n",
        "print(t1 > t2)\n",
        "## less than\n",
        "print(t1 < t2)\n",
        "## qual to\n",
        "print(t1==t2)\n",
        "## not equal to\n",
        "print(t1!=t2)"
      ]
    },
    {
      "cell_type": "markdown",
      "id": "294461ca-3c94-480e-8f80-af35cb51f28f",
      "metadata": {
        "id": "294461ca-3c94-480e-8f80-af35cb51f28f"
      },
      "source": [
        "## Special Function"
      ]
    },
    {
      "cell_type": "code",
      "execution_count": 162,
      "id": "00c9e3fb-2a6b-442c-9175-fb62a14a5ac8",
      "metadata": {
        "colab": {
          "base_uri": "https://localhost:8080/"
        },
        "id": "00c9e3fb-2a6b-442c-9175-fb62a14a5ac8",
        "outputId": "0fc2cca3-34b1-44f7-f0be-35ba403528e1"
      },
      "outputs": [
        {
          "output_type": "stream",
          "name": "stdout",
          "text": [
            "tensor([[8., 9., 7.],\n",
            "        [9., 2., 6.]])\n"
          ]
        },
        {
          "output_type": "execute_result",
          "data": {
            "text/plain": [
              "tensor([[2.0794, 2.1972, 1.9459],\n",
              "        [2.1972, 0.6931, 1.7918]])"
            ]
          },
          "metadata": {},
          "execution_count": 162
        }
      ],
      "source": [
        "print(t1)\n",
        "\n",
        "## log function\n",
        "torch.log(t1)"
      ]
    },
    {
      "cell_type": "code",
      "execution_count": 163,
      "id": "2bfaa8ba-6309-4bc1-baa4-cbb5b701ae91",
      "metadata": {
        "colab": {
          "base_uri": "https://localhost:8080/"
        },
        "id": "2bfaa8ba-6309-4bc1-baa4-cbb5b701ae91",
        "outputId": "71e2df60-558e-4c14-9a4b-1a8ce0fcf6fd"
      },
      "outputs": [
        {
          "output_type": "execute_result",
          "data": {
            "text/plain": [
              "tensor([[2.9810e+03, 8.1031e+03, 1.0966e+03],\n",
              "        [8.1031e+03, 7.3891e+00, 4.0343e+02]])"
            ]
          },
          "metadata": {},
          "execution_count": 163
        }
      ],
      "source": [
        "## exp\n",
        "torch.exp(t1)"
      ]
    },
    {
      "cell_type": "code",
      "execution_count": 164,
      "id": "ad764764-db66-4e8f-98ee-8a91aff43006",
      "metadata": {
        "colab": {
          "base_uri": "https://localhost:8080/"
        },
        "id": "ad764764-db66-4e8f-98ee-8a91aff43006",
        "outputId": "053b1839-5a2e-4126-c5c4-bad2b92e6a5e"
      },
      "outputs": [
        {
          "output_type": "execute_result",
          "data": {
            "text/plain": [
              "tensor([[2.8284, 3.0000, 2.6458],\n",
              "        [3.0000, 1.4142, 2.4495]])"
            ]
          },
          "metadata": {},
          "execution_count": 164
        }
      ],
      "source": [
        "## square root\n",
        "torch.sqrt(t1)"
      ]
    },
    {
      "cell_type": "code",
      "execution_count": 165,
      "id": "0f7c2885-d4d8-4d65-bd50-7efa491062d1",
      "metadata": {
        "colab": {
          "base_uri": "https://localhost:8080/"
        },
        "id": "0f7c2885-d4d8-4d65-bd50-7efa491062d1",
        "outputId": "38679905-2055-470f-889b-e8806b64b1a1"
      },
      "outputs": [
        {
          "output_type": "execute_result",
          "data": {
            "text/plain": [
              "tensor([[0.9997, 0.9999, 0.9991],\n",
              "        [0.9999, 0.8808, 0.9975]])"
            ]
          },
          "metadata": {},
          "execution_count": 165
        }
      ],
      "source": [
        "## sigmoid\n",
        "torch.sigmoid(t1)"
      ]
    },
    {
      "cell_type": "code",
      "execution_count": 166,
      "id": "2585cda6-9f3a-401b-b9bf-c92b06259b08",
      "metadata": {
        "colab": {
          "base_uri": "https://localhost:8080/"
        },
        "id": "2585cda6-9f3a-401b-b9bf-c92b06259b08",
        "outputId": "b04b8225-fa0c-41db-812d-d9ab371c2349"
      },
      "outputs": [
        {
          "output_type": "execute_result",
          "data": {
            "text/plain": [
              "tensor([[2.6894e-01, 9.9909e-01, 7.3106e-01],\n",
              "        [7.3106e-01, 9.1105e-04, 2.6894e-01]])"
            ]
          },
          "metadata": {},
          "execution_count": 166
        }
      ],
      "source": [
        "## softmax p column wise\n",
        "torch.softmax(t1,dim=0)"
      ]
    },
    {
      "cell_type": "code",
      "execution_count": 167,
      "id": "37d6ac15-0aa2-4f7b-a2aa-c2c0186e18fb",
      "metadata": {
        "colab": {
          "base_uri": "https://localhost:8080/"
        },
        "id": "37d6ac15-0aa2-4f7b-a2aa-c2c0186e18fb",
        "outputId": "ac8f3019-a6a7-4ccb-d3ca-be278fb2dbea"
      },
      "outputs": [
        {
          "output_type": "execute_result",
          "data": {
            "text/plain": [
              "tensor([[8., 9., 7.],\n",
              "        [9., 2., 6.]])"
            ]
          },
          "metadata": {},
          "execution_count": 167
        }
      ],
      "source": [
        "## relu\n",
        "torch.relu(t1)"
      ]
    },
    {
      "cell_type": "markdown",
      "id": "06797885-8335-404d-8dcc-aa9fd622cf57",
      "metadata": {
        "id": "06797885-8335-404d-8dcc-aa9fd622cf57"
      },
      "source": [
        "## Inplace Operation"
      ]
    },
    {
      "cell_type": "code",
      "execution_count": 168,
      "id": "e52b46e6-eb88-4a75-ab0a-e6129aab7629",
      "metadata": {
        "colab": {
          "base_uri": "https://localhost:8080/"
        },
        "id": "e52b46e6-eb88-4a75-ab0a-e6129aab7629",
        "outputId": "abc3b5bc-401a-4fd2-de10-bdbbdc7d446c"
      },
      "outputs": [
        {
          "output_type": "stream",
          "name": "stdout",
          "text": [
            "tensor([[0.3039, 0.6726, 0.5740],\n",
            "        [0.9233, 0.9178, 0.7590]])\n",
            "tensor([[ 0.2903,  1.5309, -2.1057],\n",
            "        [-0.8782,  0.1341, -1.9036]])\n"
          ]
        }
      ],
      "source": [
        "m = torch.rand(2,3)\n",
        "n = torch.randn(2,3)\n",
        "\n",
        "print(m)\n",
        "print(n)"
      ]
    },
    {
      "cell_type": "code",
      "execution_count": 169,
      "id": "ece9c3a9-aca3-4c91-8231-6ece8801a51b",
      "metadata": {
        "colab": {
          "base_uri": "https://localhost:8080/"
        },
        "id": "ece9c3a9-aca3-4c91-8231-6ece8801a51b",
        "outputId": "bbd0ce6c-34f9-44b0-9d70-83379e9aac29"
      },
      "outputs": [
        {
          "output_type": "execute_result",
          "data": {
            "text/plain": [
              "tensor([[ 0.5942,  2.2035, -1.5317],\n",
              "        [ 0.0451,  1.0519, -1.1445]])"
            ]
          },
          "metadata": {},
          "execution_count": 169
        }
      ],
      "source": [
        "m+n\n",
        "## it allocates new memories for this operation"
      ]
    },
    {
      "cell_type": "code",
      "execution_count": 170,
      "id": "f1bc1ae4-f3b3-4210-ab34-e8c4c65439d9",
      "metadata": {
        "colab": {
          "base_uri": "https://localhost:8080/"
        },
        "id": "f1bc1ae4-f3b3-4210-ab34-e8c4c65439d9",
        "outputId": "4e848e20-d46a-4195-e1e5-bca10e18066a"
      },
      "outputs": [
        {
          "output_type": "execute_result",
          "data": {
            "text/plain": [
              "tensor([[ 0.5942,  2.2035, -1.5317],\n",
              "        [ 0.0451,  1.0519, -1.1445]])"
            ]
          },
          "metadata": {},
          "execution_count": 170
        }
      ],
      "source": [
        "m.add_(n)"
      ]
    },
    {
      "cell_type": "code",
      "execution_count": 171,
      "id": "0c14b648-2bb1-4806-96d8-083a35712c38",
      "metadata": {
        "colab": {
          "base_uri": "https://localhost:8080/"
        },
        "id": "0c14b648-2bb1-4806-96d8-083a35712c38",
        "outputId": "6d260930-b19f-4763-926d-8f3ffd89df37"
      },
      "outputs": [
        {
          "output_type": "execute_result",
          "data": {
            "text/plain": [
              "tensor([[ 0.5942,  2.2035, -1.5317],\n",
              "        [ 0.0451,  1.0519, -1.1445]])"
            ]
          },
          "metadata": {},
          "execution_count": 171
        }
      ],
      "source": [
        "m\n",
        "# changes in m not creates in new memory"
      ]
    },
    {
      "cell_type": "code",
      "execution_count": 172,
      "id": "0c5b29cf-0dd2-4612-9f1c-6bf68baf8bba",
      "metadata": {
        "colab": {
          "base_uri": "https://localhost:8080/"
        },
        "id": "0c5b29cf-0dd2-4612-9f1c-6bf68baf8bba",
        "outputId": "ac8fe88a-d88c-46b4-d6d9-d42a6e66fb9d"
      },
      "outputs": [
        {
          "output_type": "execute_result",
          "data": {
            "text/plain": [
              "tensor([[ 0.2903,  1.5309, -2.1057],\n",
              "        [-0.8782,  0.1341, -1.9036]])"
            ]
          },
          "metadata": {},
          "execution_count": 172
        }
      ],
      "source": [
        "n ## same as previous"
      ]
    },
    {
      "cell_type": "code",
      "execution_count": 173,
      "id": "5de5ed43-bf18-44f4-8b6a-7279a06f686d",
      "metadata": {
        "colab": {
          "base_uri": "https://localhost:8080/"
        },
        "id": "5de5ed43-bf18-44f4-8b6a-7279a06f686d",
        "outputId": "c8bc6fe5-d318-42a6-d040-62cdc579b0fa"
      },
      "outputs": [
        {
          "output_type": "execute_result",
          "data": {
            "text/plain": [
              "tensor([[0.5942, 2.2035, 0.0000],\n",
              "        [0.0451, 1.0519, 0.0000]])"
            ]
          },
          "metadata": {},
          "execution_count": 173
        }
      ],
      "source": [
        "m.relu_()"
      ]
    },
    {
      "cell_type": "code",
      "execution_count": 174,
      "id": "cf56a3e7-d600-4c1f-906f-9affb377bf5c",
      "metadata": {
        "colab": {
          "base_uri": "https://localhost:8080/"
        },
        "id": "cf56a3e7-d600-4c1f-906f-9affb377bf5c",
        "outputId": "1d319f36-074f-4c48-c2a5-65ec1aff507f"
      },
      "outputs": [
        {
          "output_type": "execute_result",
          "data": {
            "text/plain": [
              "tensor([[0.5942, 2.2035, 0.0000],\n",
              "        [0.0451, 1.0519, 0.0000]])"
            ]
          },
          "metadata": {},
          "execution_count": 174
        }
      ],
      "source": [
        "m"
      ]
    },
    {
      "cell_type": "markdown",
      "id": "5aeb8af1-c0cf-4c01-ac5e-d05f7bdfa3d8",
      "metadata": {
        "id": "5aeb8af1-c0cf-4c01-ac5e-d05f7bdfa3d8"
      },
      "source": [
        "## Copying an tensor"
      ]
    },
    {
      "cell_type": "code",
      "execution_count": 175,
      "id": "350bb217-8611-4bf4-87af-96f440f6e48a",
      "metadata": {
        "colab": {
          "base_uri": "https://localhost:8080/"
        },
        "id": "350bb217-8611-4bf4-87af-96f440f6e48a",
        "outputId": "37428c19-8951-4189-fab4-5a5d92bdedc3"
      },
      "outputs": [
        {
          "output_type": "execute_result",
          "data": {
            "text/plain": [
              "tensor([[0.6868, 0.4920, 0.0748],\n",
              "        [0.9605, 0.3271, 0.0103]])"
            ]
          },
          "metadata": {},
          "execution_count": 175
        }
      ],
      "source": [
        "a = torch.rand(2,3)\n",
        "a"
      ]
    },
    {
      "cell_type": "code",
      "execution_count": 176,
      "id": "3962a2fe-b542-4f17-8eb7-052ad4f6858c",
      "metadata": {
        "colab": {
          "base_uri": "https://localhost:8080/"
        },
        "id": "3962a2fe-b542-4f17-8eb7-052ad4f6858c",
        "outputId": "4d0c3138-b816-4060-d79b-ad54b5f17ffb"
      },
      "outputs": [
        {
          "output_type": "execute_result",
          "data": {
            "text/plain": [
              "tensor([[0.6868, 0.4920, 0.0748],\n",
              "        [0.9605, 0.3271, 0.0103]])"
            ]
          },
          "metadata": {},
          "execution_count": 176
        }
      ],
      "source": [
        "## first method\n",
        "b = a\n",
        "b\n",
        "\n",
        "## problem : if i am changes on a ,changes also b"
      ]
    },
    {
      "cell_type": "code",
      "execution_count": 177,
      "id": "5d266b08-4bf5-4624-ba9f-5806958d0cd6",
      "metadata": {
        "colab": {
          "base_uri": "https://localhost:8080/"
        },
        "id": "5d266b08-4bf5-4624-ba9f-5806958d0cd6",
        "outputId": "784defee-e6fc-4123-bd18-1ea2fe2ceca6"
      },
      "outputs": [
        {
          "output_type": "execute_result",
          "data": {
            "text/plain": [
              "tensor([[0.0000, 0.4920, 0.0748],\n",
              "        [0.9605, 0.3271, 0.0103]])"
            ]
          },
          "metadata": {},
          "execution_count": 177
        }
      ],
      "source": [
        "## example\n",
        "a[0][0] = 0\n",
        "a"
      ]
    },
    {
      "cell_type": "code",
      "execution_count": 178,
      "id": "5c4c09bd-bc4b-466b-afeb-e25cb8c1c28b",
      "metadata": {
        "colab": {
          "base_uri": "https://localhost:8080/"
        },
        "id": "5c4c09bd-bc4b-466b-afeb-e25cb8c1c28b",
        "outputId": "f50580f6-e94c-40c0-b984-85926b66ea76"
      },
      "outputs": [
        {
          "output_type": "execute_result",
          "data": {
            "text/plain": [
              "tensor([[0.0000, 0.4920, 0.0748],\n",
              "        [0.9605, 0.3271, 0.0103]])"
            ]
          },
          "metadata": {},
          "execution_count": 178
        }
      ],
      "source": [
        "b"
      ]
    },
    {
      "cell_type": "code",
      "execution_count": 179,
      "id": "5175d1d2-fbe8-4c7e-8148-b786f23b13c1",
      "metadata": {
        "id": "5175d1d2-fbe8-4c7e-8148-b786f23b13c1"
      },
      "outputs": [],
      "source": [
        "## b mein bhi change ho gaya , which is not desirable"
      ]
    },
    {
      "cell_type": "code",
      "execution_count": 180,
      "id": "3bafcd0b-3ffb-47f1-936f-296293ad255e",
      "metadata": {
        "colab": {
          "base_uri": "https://localhost:8080/"
        },
        "id": "3bafcd0b-3ffb-47f1-936f-296293ad255e",
        "outputId": "73b01f00-9a3b-40a5-fb11-eb6b543cd23b"
      },
      "outputs": [
        {
          "output_type": "stream",
          "name": "stdout",
          "text": [
            "133899286741936\n",
            "133899286741936\n"
          ]
        }
      ],
      "source": [
        "print(id(a))\n",
        "print(id(b))"
      ]
    },
    {
      "cell_type": "code",
      "execution_count": 181,
      "id": "722980c7-59b4-4fc5-8577-dcd1e7a75a02",
      "metadata": {
        "colab": {
          "base_uri": "https://localhost:8080/"
        },
        "id": "722980c7-59b4-4fc5-8577-dcd1e7a75a02",
        "outputId": "a6fa8bd6-b352-4c9c-cbd9-184a1c5b04eb"
      },
      "outputs": [
        {
          "output_type": "stream",
          "name": "stdout",
          "text": [
            "tensor([[0.9516, 0.2855],\n",
            "        [0.2324, 0.9141],\n",
            "        [0.7668, 0.1659]])\n",
            "tensor([[0.9516, 0.2855],\n",
            "        [0.2324, 0.9141],\n",
            "        [0.7668, 0.1659]])\n"
          ]
        }
      ],
      "source": [
        "## second method\n",
        "a = torch.rand(3,2)\n",
        "b = a.clone()\n",
        "print(a)\n",
        "print(b)"
      ]
    },
    {
      "cell_type": "code",
      "execution_count": 182,
      "id": "f90874f0-2847-4717-a24a-263eb9525cb8",
      "metadata": {
        "colab": {
          "base_uri": "https://localhost:8080/"
        },
        "id": "f90874f0-2847-4717-a24a-263eb9525cb8",
        "outputId": "b5a6e572-540b-4996-c656-f4d58d042786"
      },
      "outputs": [
        {
          "output_type": "execute_result",
          "data": {
            "text/plain": [
              "tensor([[0.0000, 0.2855],\n",
              "        [0.2324, 0.9141],\n",
              "        [0.7668, 0.1659]])"
            ]
          },
          "metadata": {},
          "execution_count": 182
        }
      ],
      "source": [
        "a[0][0] = 0\n",
        "a"
      ]
    },
    {
      "cell_type": "code",
      "execution_count": 183,
      "id": "e4a69719-ab3a-40e0-b7da-58df51b8459a",
      "metadata": {
        "colab": {
          "base_uri": "https://localhost:8080/"
        },
        "id": "e4a69719-ab3a-40e0-b7da-58df51b8459a",
        "outputId": "48cbd6e2-c57f-449d-ef67-a3bc0e1a8b67"
      },
      "outputs": [
        {
          "output_type": "execute_result",
          "data": {
            "text/plain": [
              "tensor([[0.9516, 0.2855],\n",
              "        [0.2324, 0.9141],\n",
              "        [0.7668, 0.1659]])"
            ]
          },
          "metadata": {},
          "execution_count": 183
        }
      ],
      "source": [
        "b"
      ]
    },
    {
      "cell_type": "code",
      "execution_count": 184,
      "id": "5ebb9f70-5090-420b-8a44-02e7a203ebb8",
      "metadata": {
        "id": "5ebb9f70-5090-420b-8a44-02e7a203ebb8"
      },
      "outputs": [],
      "source": [
        "## b mein changes mnahi hue that's good"
      ]
    },
    {
      "cell_type": "code",
      "execution_count": 185,
      "id": "0ffa79cd-691c-45f3-a12f-9bf0123f3a54",
      "metadata": {
        "colab": {
          "base_uri": "https://localhost:8080/"
        },
        "id": "0ffa79cd-691c-45f3-a12f-9bf0123f3a54",
        "outputId": "d33051a6-31de-429b-cee0-4dc60236d224"
      },
      "outputs": [
        {
          "output_type": "stream",
          "name": "stdout",
          "text": [
            "133899286646192\n",
            "133899286656272\n"
          ]
        }
      ],
      "source": [
        "print(id(a))\n",
        "print(id(b))"
      ]
    },
    {
      "cell_type": "markdown",
      "id": "73a4471b-77ac-4b6a-a4a4-2dfc337c9af4",
      "metadata": {
        "id": "73a4471b-77ac-4b6a-a4a4-2dfc337c9af4"
      },
      "source": [
        "## Tensor Operation On GPU"
      ]
    },
    {
      "cell_type": "code",
      "execution_count": 186,
      "id": "f80ade99-0f2a-427a-ab0e-bbc7aeb2a2f9",
      "metadata": {
        "colab": {
          "base_uri": "https://localhost:8080/"
        },
        "id": "f80ade99-0f2a-427a-ab0e-bbc7aeb2a2f9",
        "outputId": "e8e80ecb-bab9-4cd3-bee3-3cf862fbf63e"
      },
      "outputs": [
        {
          "output_type": "execute_result",
          "data": {
            "text/plain": [
              "True"
            ]
          },
          "metadata": {},
          "execution_count": 186
        }
      ],
      "source": [
        "torch.cuda.is_available()"
      ]
    },
    {
      "cell_type": "code",
      "execution_count": 187,
      "id": "1499d62b-c3b1-498e-a3dd-0c583c8461b6",
      "metadata": {
        "id": "1499d62b-c3b1-498e-a3dd-0c583c8461b6"
      },
      "outputs": [],
      "source": [
        "device = torch.device('cuda')"
      ]
    },
    {
      "cell_type": "code",
      "execution_count": 188,
      "id": "b20cd9a9-d939-410c-9852-78cc86fff781",
      "metadata": {
        "colab": {
          "base_uri": "https://localhost:8080/"
        },
        "id": "b20cd9a9-d939-410c-9852-78cc86fff781",
        "outputId": "898cf6c5-39d3-41a7-c168-780aa00081e9"
      },
      "outputs": [
        {
          "output_type": "execute_result",
          "data": {
            "text/plain": [
              "device(type='cuda')"
            ]
          },
          "metadata": {},
          "execution_count": 188
        }
      ],
      "source": [
        "device"
      ]
    },
    {
      "cell_type": "code",
      "execution_count": 189,
      "id": "62e5a882-4646-4c97-b624-4b21890a6681",
      "metadata": {
        "colab": {
          "base_uri": "https://localhost:8080/"
        },
        "id": "62e5a882-4646-4c97-b624-4b21890a6681",
        "outputId": "046b5f3d-c63d-4748-c209-eba05e8d9ffe"
      },
      "outputs": [
        {
          "output_type": "execute_result",
          "data": {
            "text/plain": [
              "tensor([[0.3563, 0.0303, 0.7088],\n",
              "        [0.2009, 0.0224, 0.9896]], device='cuda:0')"
            ]
          },
          "metadata": {},
          "execution_count": 189
        }
      ],
      "source": [
        "## creating an new tensor on GPU\n",
        "torch.rand(2,3,device=device)"
      ]
    },
    {
      "cell_type": "code",
      "execution_count": 190,
      "id": "a89a94d9-7972-4b64-a0ed-ce64366c4b20",
      "metadata": {
        "colab": {
          "base_uri": "https://localhost:8080/"
        },
        "id": "a89a94d9-7972-4b64-a0ed-ce64366c4b20",
        "outputId": "45fb3b5b-69a9-4dad-e5f6-c40b95c23a5a"
      },
      "outputs": [
        {
          "output_type": "execute_result",
          "data": {
            "text/plain": [
              "tensor([[0.4393, 0.2243, 0.8935],\n",
              "        [0.0497, 0.1780, 0.3011]])"
            ]
          },
          "metadata": {},
          "execution_count": 190
        }
      ],
      "source": [
        "## moving an existing tensor to GPU\n",
        "a = torch.rand(2,3)\n",
        "a"
      ]
    },
    {
      "cell_type": "code",
      "execution_count": 191,
      "id": "be80291c-8f6b-4037-a622-1df9e7b2bcd5",
      "metadata": {
        "colab": {
          "base_uri": "https://localhost:8080/"
        },
        "id": "be80291c-8f6b-4037-a622-1df9e7b2bcd5",
        "outputId": "5d577ba7-4749-4dc1-e5ea-5b1256eb12d7"
      },
      "outputs": [
        {
          "output_type": "execute_result",
          "data": {
            "text/plain": [
              "tensor([[0.4393, 0.2243, 0.8935],\n",
              "        [0.0497, 0.1780, 0.3011]], device='cuda:0')"
            ]
          },
          "metadata": {},
          "execution_count": 191
        }
      ],
      "source": [
        "b = a.to(device)\n",
        "b\n",
        "## b mein ab jo bhi operation perform hoge woh gpu mein hoge"
      ]
    },
    {
      "cell_type": "markdown",
      "id": "b63e03d2-bc11-46d4-ae79-fbb8a4b178ab",
      "metadata": {
        "id": "b63e03d2-bc11-46d4-ae79-fbb8a4b178ab"
      },
      "source": [
        "## Comparison Time Operation perform Between CPU Vs GPU"
      ]
    },
    {
      "cell_type": "code",
      "execution_count": 192,
      "id": "5f34d108-7444-4bb4-8295-df79460d3516",
      "metadata": {
        "colab": {
          "base_uri": "https://localhost:8080/"
        },
        "id": "5f34d108-7444-4bb4-8295-df79460d3516",
        "outputId": "778b071a-b117-4201-a191-e7b13db50589"
      },
      "outputs": [
        {
          "output_type": "stream",
          "name": "stdout",
          "text": [
            "time on cpu: 25.6340 seconds\n",
            "time on gpu: 0.0009 seconds\n"
          ]
        }
      ],
      "source": [
        "import time\n",
        "\n",
        "## define the size of the matrices\n",
        "size = 10000\n",
        "\n",
        "## craete random matrices on CPU\n",
        "matrix_cpu1 = torch.randn(size,size)\n",
        "matrix_cpu2 = torch.randn(size,size)\n",
        "\n",
        "\n",
        "## measure on cpu\n",
        "\n",
        "start_time = time.time()\n",
        "result_cpu = torch.matmul(matrix_cpu1,matrix_cpu2)\n",
        "cpu_time = time.time() - start_time\n",
        "\n",
        "print(f'time on cpu: {cpu_time:.4f} seconds')\n",
        "\n",
        "##Move matrix to GPU\n",
        "\n",
        "matrix_gpu1 = matrix_cpu1.to('cuda')\n",
        "matrix_gpu2 = matrix_cpu2.to('cuda')\n",
        "\n",
        "## measure time on GPU\n",
        "\n",
        "start_time = time.time()\n",
        "result_cpu = torch.matmul(matrix_gpu1,matrix_gpu2)\n",
        "gpu_time = time.time() - start_time\n",
        "\n",
        "print(f'time on gpu: {gpu_time:.4f} seconds')\n"
      ]
    },
    {
      "cell_type": "markdown",
      "id": "b1e0991e-5e2f-4d11-ac0d-3df033253666",
      "metadata": {
        "id": "b1e0991e-5e2f-4d11-ac0d-3df033253666"
      },
      "source": [
        "## Reshaping Tensor"
      ]
    },
    {
      "cell_type": "code",
      "execution_count": 193,
      "id": "cf0697dd-41c1-4608-91ab-104dca750ade",
      "metadata": {
        "colab": {
          "base_uri": "https://localhost:8080/"
        },
        "id": "cf0697dd-41c1-4608-91ab-104dca750ade",
        "outputId": "94717cf7-a147-412b-9f03-f2ebfc2dbd50"
      },
      "outputs": [
        {
          "output_type": "execute_result",
          "data": {
            "text/plain": [
              "tensor([[1., 1., 1., 1.],\n",
              "        [1., 1., 1., 1.],\n",
              "        [1., 1., 1., 1.],\n",
              "        [1., 1., 1., 1.]])"
            ]
          },
          "metadata": {},
          "execution_count": 193
        }
      ],
      "source": [
        "x = torch.ones(4,4)\n",
        "x"
      ]
    },
    {
      "cell_type": "code",
      "execution_count": 194,
      "id": "c7649065-ac91-4acf-98d5-8353be5cf424",
      "metadata": {
        "colab": {
          "base_uri": "https://localhost:8080/"
        },
        "id": "c7649065-ac91-4acf-98d5-8353be5cf424",
        "outputId": "538325e1-a918-4e8c-9c47-0fca7f78ccaf"
      },
      "outputs": [
        {
          "output_type": "execute_result",
          "data": {
            "text/plain": [
              "tensor([[[[1., 1.],\n",
              "          [1., 1.]],\n",
              "\n",
              "         [[1., 1.],\n",
              "          [1., 1.]]],\n",
              "\n",
              "\n",
              "        [[[1., 1.],\n",
              "          [1., 1.]],\n",
              "\n",
              "         [[1., 1.],\n",
              "          [1., 1.]]]])"
            ]
          },
          "metadata": {},
          "execution_count": 194
        }
      ],
      "source": [
        "## reshape\n",
        "x.reshape(2,2,2,2)"
      ]
    },
    {
      "cell_type": "code",
      "execution_count": 195,
      "id": "830e5071-200f-400f-bb5a-6984b86bacaa",
      "metadata": {
        "colab": {
          "base_uri": "https://localhost:8080/"
        },
        "id": "830e5071-200f-400f-bb5a-6984b86bacaa",
        "outputId": "2442745e-e6d5-4f11-e833-f15169db0d0c"
      },
      "outputs": [
        {
          "output_type": "execute_result",
          "data": {
            "text/plain": [
              "tensor([1., 1., 1., 1., 1., 1., 1., 1., 1., 1., 1., 1., 1., 1., 1., 1.])"
            ]
          },
          "metadata": {},
          "execution_count": 195
        }
      ],
      "source": [
        "## flatten\n",
        "torch.flatten(x)"
      ]
    },
    {
      "cell_type": "code",
      "execution_count": 196,
      "id": "120efadf-4006-42f4-9b51-7d51a79619f0",
      "metadata": {
        "colab": {
          "base_uri": "https://localhost:8080/"
        },
        "id": "120efadf-4006-42f4-9b51-7d51a79619f0",
        "outputId": "6d17eb7d-20d8-4f7e-b9d4-1c4f2eddcce8"
      },
      "outputs": [
        {
          "output_type": "execute_result",
          "data": {
            "text/plain": [
              "tensor([[[0.5752, 0.8881, 0.7989, 0.9514],\n",
              "         [0.0141, 0.8903, 0.1649, 0.3162],\n",
              "         [0.1331, 0.6763, 0.4254, 0.2375]],\n",
              "\n",
              "        [[0.5430, 0.1174, 0.6532, 0.5115],\n",
              "         [0.3094, 0.7907, 0.7351, 0.2693],\n",
              "         [0.8009, 0.5839, 0.0061, 0.4671]]])"
            ]
          },
          "metadata": {},
          "execution_count": 196
        }
      ],
      "source": [
        "## permute\n",
        "c = torch.rand(2,3,4)\n",
        "c"
      ]
    },
    {
      "cell_type": "code",
      "execution_count": 197,
      "id": "8c96abff-875a-4751-98c9-1cea5011c03f",
      "metadata": {
        "colab": {
          "base_uri": "https://localhost:8080/"
        },
        "id": "8c96abff-875a-4751-98c9-1cea5011c03f",
        "outputId": "8e3bb3f4-e6cc-4da8-9ae1-313c45661748"
      },
      "outputs": [
        {
          "output_type": "execute_result",
          "data": {
            "text/plain": [
              "tensor([[[0.5752, 0.0141, 0.1331],\n",
              "         [0.5430, 0.3094, 0.8009]],\n",
              "\n",
              "        [[0.8881, 0.8903, 0.6763],\n",
              "         [0.1174, 0.7907, 0.5839]],\n",
              "\n",
              "        [[0.7989, 0.1649, 0.4254],\n",
              "         [0.6532, 0.7351, 0.0061]],\n",
              "\n",
              "        [[0.9514, 0.3162, 0.2375],\n",
              "         [0.5115, 0.2693, 0.4671]]])"
            ]
          },
          "metadata": {},
          "execution_count": 197
        }
      ],
      "source": [
        "c.permute(2,0,1)\n",
        "## now shape is (4,2,3)  -- original is (2,3,4)"
      ]
    },
    {
      "cell_type": "code",
      "execution_count": 198,
      "id": "8f1756bc-bdd2-45e7-b516-8699459f5f83",
      "metadata": {
        "id": "8f1756bc-bdd2-45e7-b516-8699459f5f83"
      },
      "outputs": [],
      "source": [
        "## unsqueeze\n",
        "## image size\n",
        "img = torch.rand(226,226,3)"
      ]
    },
    {
      "cell_type": "code",
      "execution_count": 199,
      "id": "3b11b567-0eb5-4210-a612-573f119e6f5b",
      "metadata": {
        "colab": {
          "base_uri": "https://localhost:8080/"
        },
        "id": "3b11b567-0eb5-4210-a612-573f119e6f5b",
        "outputId": "c613d9d7-c709-42ab-9ce0-b5d613512e6c"
      },
      "outputs": [
        {
          "output_type": "execute_result",
          "data": {
            "text/plain": [
              "torch.Size([1, 226, 226, 3])"
            ]
          },
          "metadata": {},
          "execution_count": 199
        }
      ],
      "source": [
        "img.unsqueeze(0).shape\n",
        "## single batch"
      ]
    },
    {
      "cell_type": "code",
      "execution_count": 200,
      "id": "8cc9987a-8e26-4a5e-961b-fca6eac7cc0d",
      "metadata": {
        "colab": {
          "base_uri": "https://localhost:8080/"
        },
        "id": "8cc9987a-8e26-4a5e-961b-fca6eac7cc0d",
        "outputId": "a7205110-0061-4255-81f2-e700ec0e2a75"
      },
      "outputs": [
        {
          "output_type": "execute_result",
          "data": {
            "text/plain": [
              "torch.Size([20])"
            ]
          },
          "metadata": {},
          "execution_count": 200
        }
      ],
      "source": [
        "## squueze\n",
        "d = torch.rand(1,20)\n",
        "d.squeeze(0).shape"
      ]
    },
    {
      "cell_type": "markdown",
      "id": "6f803e91-3bdb-441b-b6b7-16e9a1134fed",
      "metadata": {
        "id": "6f803e91-3bdb-441b-b6b7-16e9a1134fed"
      },
      "source": [
        "## Numpy & PyTorch"
      ]
    },
    {
      "cell_type": "code",
      "execution_count": 201,
      "id": "14e7598c-6396-44f6-8ced-93a51b8d4841",
      "metadata": {
        "id": "14e7598c-6396-44f6-8ced-93a51b8d4841"
      },
      "outputs": [],
      "source": [
        "import numpy as np"
      ]
    },
    {
      "cell_type": "code",
      "execution_count": 202,
      "id": "16584907-01ce-4a6f-8eca-632c48256d02",
      "metadata": {
        "colab": {
          "base_uri": "https://localhost:8080/"
        },
        "id": "16584907-01ce-4a6f-8eca-632c48256d02",
        "outputId": "5098f4bd-c5bd-4b03-c5ce-fcce3a487bf2"
      },
      "outputs": [
        {
          "output_type": "execute_result",
          "data": {
            "text/plain": [
              "tensor([1, 2, 3])"
            ]
          },
          "metadata": {},
          "execution_count": 202
        }
      ],
      "source": [
        "a = torch.tensor([1,2,3])\n",
        "a"
      ]
    },
    {
      "cell_type": "code",
      "execution_count": 203,
      "id": "e86117fb-13ee-4f0c-a14c-6521640a6666",
      "metadata": {
        "colab": {
          "base_uri": "https://localhost:8080/"
        },
        "id": "e86117fb-13ee-4f0c-a14c-6521640a6666",
        "outputId": "01f7b4c3-f367-40fc-832d-cff8f6fe7aff"
      },
      "outputs": [
        {
          "output_type": "execute_result",
          "data": {
            "text/plain": [
              "torch.Tensor"
            ]
          },
          "metadata": {},
          "execution_count": 203
        }
      ],
      "source": [
        "type(a)"
      ]
    },
    {
      "cell_type": "code",
      "execution_count": 204,
      "id": "67a617ee-91c6-44f2-9ba7-c0879afecdb2",
      "metadata": {
        "colab": {
          "base_uri": "https://localhost:8080/"
        },
        "id": "67a617ee-91c6-44f2-9ba7-c0879afecdb2",
        "outputId": "579dea78-5b66-4ec0-ae91-2d346d749cab"
      },
      "outputs": [
        {
          "output_type": "stream",
          "name": "stdout",
          "text": [
            "<class 'numpy.ndarray'>\n"
          ]
        }
      ],
      "source": [
        "b = a.numpy()\n",
        "## covert tensor to numpy array\n",
        "print(type(b))"
      ]
    },
    {
      "cell_type": "code",
      "execution_count": 205,
      "id": "9e38c409-d182-4233-b4b5-4b8862b0e3b6",
      "metadata": {
        "colab": {
          "base_uri": "https://localhost:8080/"
        },
        "id": "9e38c409-d182-4233-b4b5-4b8862b0e3b6",
        "outputId": "da07bf15-2555-4303-e637-a631f1916bde"
      },
      "outputs": [
        {
          "output_type": "stream",
          "name": "stdout",
          "text": [
            "<class 'numpy.ndarray'>\n"
          ]
        }
      ],
      "source": [
        "c = np.array([1,2,3])\n",
        "print(type(c))"
      ]
    },
    {
      "cell_type": "code",
      "execution_count": 206,
      "id": "8bbecf16-b9af-407f-aa3a-419632a4bc3f",
      "metadata": {
        "colab": {
          "base_uri": "https://localhost:8080/"
        },
        "id": "8bbecf16-b9af-407f-aa3a-419632a4bc3f",
        "outputId": "5101eb1c-0145-4f82-a70d-f24ff1c7911d"
      },
      "outputs": [
        {
          "output_type": "execute_result",
          "data": {
            "text/plain": [
              "tensor([1, 2, 3])"
            ]
          },
          "metadata": {},
          "execution_count": 206
        }
      ],
      "source": [
        "## convert numpy array to tensor\n",
        "torch.from_numpy(c)"
      ]
    }
  ],
  "metadata": {
    "kernelspec": {
      "display_name": "Python 3",
      "name": "python3"
    },
    "language_info": {
      "codemirror_mode": {
        "name": "ipython",
        "version": 3
      },
      "file_extension": ".py",
      "mimetype": "text/x-python",
      "name": "python",
      "nbconvert_exporter": "python",
      "pygments_lexer": "ipython3",
      "version": "3.12.4"
    },
    "colab": {
      "provenance": [],
      "gpuType": "T4"
    },
    "accelerator": "GPU"
  },
  "nbformat": 4,
  "nbformat_minor": 5
}