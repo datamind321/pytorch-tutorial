{
 "cells": [
  {
   "cell_type": "markdown",
   "metadata": {
    "id": "InXZklyBVH1c"
   },
   "source": [
    "![](https://i.ytimg.com/vi/V_xro1bcAuA/maxresdefault.jpg)\n",
    "\n",
    "# Introduction to Pytorch\n",
    "\n",
    "***\n",
    "\n",
    "## **PyTorch is a powerful, yet easy-to-use deep learning library for Python, mainly used for applications such as computer vision and natural language processing.**\n",
    "\n",
    "## **Python & Torch: Combines Python’s ease of use with the efficiency of the ``Torch scientific computing framework``, originally built with `Lua`. Torch was known for high-performance tensor-based operations, especially on GPUs.**\n",
    "\n",
    "## **While TensorFlow was developed by Google, PyTorch was developed by `Facebook's AI Research Group`, which has recently shifted management of the framework to the newly created `PyTorch Foundation`, which is under the supervision of the Linux Foundation.**\n",
    "\n",
    "# **Core Features**\n",
    "\n",
    "***\n",
    "\n",
    "- ## **Tensor Computations**\n",
    "- ## **GPU Acceleration**\n",
    "- ## **Dynamic Computation**\n",
    "- ## **Automatic Differentiation**\n",
    "- ## **Distributed Training**\n",
    "- ## **Interoperability with other libraries**"
   ]
  },
  {
   "cell_type": "markdown",
   "metadata": {
    "id": "d3J_s1zBWqxk"
   },
   "source": [
    "# **Pytorch Vs Tensorflow**\n",
    "\n",
    "***\n",
    "\n",
    "![](https://kruschecompany.com/wp-content/uploads/2022/02/Infographic-comparing-the-Machine-Learning-libraries-PyTorch-and-TensorFlow.png)"
   ]
  },
  {
   "cell_type": "markdown",
   "metadata": {
    "id": "QvsheGt_XKAe"
   },
   "source": [
    "# **Core Pytorch Modules**\n",
    "\n",
    "***\n",
    "\n",
    "- ## `torch`\n",
    "  - ### The core module providing multi-dimensional arrays (tensors) and mathematical operation on them.\n",
    "\n",
    "- ## `torch.autograd`\n",
    "  - ### Automatic differentiation engine that records operations on tensors to compute gradients for optimization.\n",
    "\n",
    "- ## `torch.nn`\n",
    "  - ### Provides a neural network library, including layers, activations, loss functions, and utilities to build deep learning models.\n",
    "\n",
    "- ## `torch.utils.data`\n",
    "  - ### Utilities for data handling, including `Dataset` and `Dataloader` classes for managing and loading dataset efficiently.\n",
    "\n",
    "- ## `torch.jit`\n",
    "  - ### Supports Just-In-Time (JIT) compilation and Torchscripts for optimization models and enabling deployment without python dependencies.\n",
    "\n",
    "- ## `torch.distributed`\n",
    "  - ### Tools for distributed training across multiple GPUs and ,achines, facilitating parallel computation.\n",
    "\n",
    "- ## `torch.cuda`\n",
    "  - ### Interfaces with NVIDIA CUDA to enable GPU acceleration for tensor computation and model training.\n",
    "\n",
    "- ## `torch.backends`\n",
    "  - ### Contains settings and allows control over backend libraries like cuDNN,MKL and other for performing tunning.\n",
    "\n",
    "- ## `torch.multiprocessing`\n",
    "  - ### Utilities for parallelism using multiprocessing, similar to Python `multiprocessing` module but with support for CUDA tensors.\n",
    "\n",
    "- ## `torch.quantization`\n",
    "  - ### Tools for model quantization to reduce model size and improve inference speed, especially on edge devices.\n",
    "\n",
    "- ## `torch.onnx`\n",
    "  - ### Supports exporting PyTorch models to the ONNX (Open Neural Network Exchange) format for interoperability with other framework and deployements."
   ]
  },
  {
   "cell_type": "markdown",
   "metadata": {
    "id": "q8ceX-m5asKh"
   },
   "source": [
    "# **Pytorch Domain LIbraries**\n",
    "\n",
    "***\n",
    "\n",
    "- ## `torchvision`\n",
    "\n",
    "  - ### **Provides dataset, model architectures, and image transformations for computer vision tasks.**\n",
    "\n",
    "- ## `torchtext`\n",
    "\n",
    "  - ### **Tools and datasets for natural language processing (NLP), including data preprocessing and vocabulary management.**\n",
    "\n",
    "- ## `torchaudio`\n",
    "\n",
    "  - ### **Utilities for audio processing tasks, including I/O, transforms , and pre-trained models fpr speech recognition.**\n",
    "\n",
    "- ## `torcharrow`\n",
    "\n",
    "  - ### **A library for accelerated data loading and preprocessing, especially for tabular and time series data (experimental).**\n",
    "\n",
    "- ## `torchserve`\n",
    "\n",
    "  - ### **A Pytorch model serving library that makes it easy to deploy trained models at scale in production enviroments.**\n",
    "\n",
    "- ## `pytorch_lightning`\n",
    "\n",
    "  - ### **A lightweight wrapper for Pytorch that simplifies the training loop and reduces boilerplate code, enabling scalable and reproducible models.**"
   ]
  },
  {
   "cell_type": "markdown",
   "metadata": {
    "id": "4QQ1HOwQco6i"
   },
   "source": [
    "# **Popular Pytorch Ecosystem Libraries**\n",
    "\n",
    "***\n",
    "\n",
    "- ### `HuggingFace Transformers`\n",
    "  - ### Provides state-of-the-art-pre-trained models for NLP tasks like text-classification, translation, and question answering, built on Pytorch.\n",
    "\n",
    "- ### `Fastai`\n",
    "  - ### High-level library that simplifies training fast and accurate neural nets using modern best practices, built on top of PyTorch.\n",
    "\n",
    "- ### `Optuna`\n",
    "  - ### An automatic hyperparameter optimization software framework, integrating well with PyTorch for tunning models.\n",
    "\n",
    "- ### `Catalyst`\n",
    "  - ### Provides high-level features for training neural networks, focusing on reproducibility and fast experimentation.\n",
    "\n",
    "- ### `Ignite`\n",
    "  - ### High-Level library to help with training neural network in PyTorch, designed to support researchers in deep learning for NLP."
   ]
  },
  {
   "cell_type": "markdown",
   "metadata": {
    "id": "Eg_bTe7GfPVA"
   },
   "source": [
    "# **Who Uses PyTorch ?**\n",
    "\n",
    "*** \n",
    "![](https://www.shutterstock.com/image-vector/vinnitsa-ukraine-may-25-2023-260nw-2308128481.jpg)\n",
    "\n",
    "## Description/Usage \n",
    "\n",
    "#### **Developed PyTorch and uses it extensively for computer vision, natural language processing, and AI research across its platform.**\n",
    "\n",
    "## Applications \n",
    "\n",
    "\n",
    " - **Facebook App**\n",
    " - **Instagram**\n",
    " - **Meta AI Research Projects**\n",
    "\n",
    "\n",
    "\n",
    "***\n",
    "\n",
    "![](https://blogs.microsoft.com/wp-content/uploads/prod/2012/08/8867.Microsoft_5F00_Logo_2D00_for_2D00_screen.jpg)\n",
    "\n",
    "## Description/Usage \n",
    "\n",
    "#### **Integrates PyTorch into Azure services for AI developments; imploys PyTorch in search relevance, productivity tools, and various AI applications.**\n",
    "\n",
    "## Applications \n",
    " - **Azure Machine Learning**\n",
    " - **Bing Search**\n",
    " - **Office 365 Intelligent features**\n",
    "\n",
    "***\n",
    "\n",
    "\n",
    "## Description/Usage \n",
    "\n",
    "#### **Utilizes PyTorch for training large-scale language models and generative models in natural language processing and computer vision.**\n",
    "\n",
    "## Applications \n",
    "\n",
    " - **GPT Models**\n",
    " - **DALL-E**\n",
    " - **ChatGPT**\n",
    "\n",
    "***\n",
    "\n",
    "![](https://i.cdn.newsbytesapp.com/images/l56520240703143939.jpeg)\n",
    "\n",
    "\n",
    "## Description/Usage \n",
    "\n",
    "#### **Uses PyTorch for training deep neural network in computer vision and perception tasks for autonomous driving system.**\n",
    "\n",
    "## Applications \n",
    "\n",
    " - **Autopilot System**\n",
    " - **Full Self-Driving (FSD) capability**\n",
    "\n",
    "\n",
    "***\n",
    "\n",
    "![](https://www.investopedia.com/thmb/rRFyB5UPC1a0_X6AUSw8owO7eso=/1500x0/filters:no_upscale():max_bytes(150000):strip_icc()/GettyImages-1923331422-852a4015c4534c60acd38b48dcd2c392.jpg)\n",
    "\n",
    "## Description/Usage \n",
    "\n",
    "#### **Employs PyTorch for demand forecasting, route information, and developed Pyro, a probabilistic programming language built on PyTorch.**\n",
    "\n",
    "## Applications \n",
    "\n",
    " - **Uber Ride-Hailing Platform**\n",
    " - **Uber Eats Recommendations**\n",
    " - **Pyro (Probabilistics Programming)**\n",
    "\n",
    "***"
   ]
  }
 ],
 "metadata": {
  "colab": {
   "provenance": []
  },
  "kernelspec": {
   "display_name": "Python 3 (ipykernel)",
   "language": "python",
   "name": "python3"
  },
  "language_info": {
   "codemirror_mode": {
    "name": "ipython",
    "version": 3
   },
   "file_extension": ".py",
   "mimetype": "text/x-python",
   "name": "python",
   "nbconvert_exporter": "python",
   "pygments_lexer": "ipython3",
   "version": "3.12.4"
  }
 },
 "nbformat": 4,
 "nbformat_minor": 4
}
